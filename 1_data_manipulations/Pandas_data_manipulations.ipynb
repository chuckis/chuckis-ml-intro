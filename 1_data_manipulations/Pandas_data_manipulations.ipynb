{
 "cells": [
  {
   "cell_type": "markdown",
   "metadata": {},
   "source": [
    "You can find dataset description here https://archive.ics.uci.edu/ml/datasets/Student+Performance. Data is in \"Data Folder\" name \"student.zip\""
   ]
  },
  {
   "cell_type": "markdown",
   "metadata": {},
   "source": [
    "## How to complete this assignment"
   ]
  },
  {
   "cell_type": "markdown",
   "metadata": {},
   "source": [
    "First download the data and extract two tables from the link above. Then complete 9 graded tasks below, the score is given in brackets. Finally submit the resulting `.ipynb` file to rs-app Auto-test.\n",
    "- **Do not delete or rename the variables** given before the inscription '#your code here', they are needed for correct verification.\n",
    "- **Do not change the code** in the last Notebook cell, it is required for server side.\n",
    "- Your **Notebook must run completely without errors** in order to be graded! Please check everything before submission by going _Cell_ -> _Run All_"
   ]
  },
  {
   "cell_type": "markdown",
   "metadata": {},
   "source": [
    "## Here goes!"
   ]
  },
  {
   "cell_type": "markdown",
   "metadata": {},
   "source": [
    "### Import necessary libraries "
   ]
  },
  {
   "cell_type": "code",
   "execution_count": 103,
   "metadata": {},
   "outputs": [],
   "source": [
    "import pandas as pd"
   ]
  },
  {
   "cell_type": "markdown",
   "metadata": {},
   "source": [
    "### Read the data"
   ]
  },
  {
   "cell_type": "code",
   "execution_count": 104,
   "metadata": {},
   "outputs": [],
   "source": [
    "mat = pd.read_csv(\"student-mat.csv\", sep=\";\")\n",
    "por = pd.read_csv(\"student-por.csv\", sep=\";\")"
   ]
  },
  {
   "cell_type": "markdown",
   "metadata": {},
   "source": [
    "### Look at first five rows of table with students math grades. In all other tasks, unless otherwise stated, we use it."
   ]
  },
  {
   "cell_type": "code",
   "execution_count": 105,
   "metadata": {},
   "outputs": [
    {
     "output_type": "execute_result",
     "data": {
      "text/plain": [
       "  school sex  age address famsize Pstatus  Medu  Fedu     Mjob      Fjob  ...  \\\n",
       "0     GP   F   18       U     GT3       A     4     4  at_home   teacher  ...   \n",
       "1     GP   F   17       U     GT3       T     1     1  at_home     other  ...   \n",
       "2     GP   F   15       U     LE3       T     1     1  at_home     other  ...   \n",
       "3     GP   F   15       U     GT3       T     4     2   health  services  ...   \n",
       "4     GP   F   16       U     GT3       T     3     3    other     other  ...   \n",
       "\n",
       "  famrel freetime  goout  Dalc  Walc health absences  G1  G2  G3  \n",
       "0      4        3      4     1     1      3        6   5   6   6  \n",
       "1      5        3      3     1     1      3        4   5   5   6  \n",
       "2      4        3      2     2     3      3       10   7   8  10  \n",
       "3      3        2      2     1     1      5        2  15  14  15  \n",
       "4      4        3      2     1     2      5        4   6  10  10  \n",
       "\n",
       "[5 rows x 33 columns]"
      ],
      "text/html": "<div>\n<style scoped>\n    .dataframe tbody tr th:only-of-type {\n        vertical-align: middle;\n    }\n\n    .dataframe tbody tr th {\n        vertical-align: top;\n    }\n\n    .dataframe thead th {\n        text-align: right;\n    }\n</style>\n<table border=\"1\" class=\"dataframe\">\n  <thead>\n    <tr style=\"text-align: right;\">\n      <th></th>\n      <th>school</th>\n      <th>sex</th>\n      <th>age</th>\n      <th>address</th>\n      <th>famsize</th>\n      <th>Pstatus</th>\n      <th>Medu</th>\n      <th>Fedu</th>\n      <th>Mjob</th>\n      <th>Fjob</th>\n      <th>...</th>\n      <th>famrel</th>\n      <th>freetime</th>\n      <th>goout</th>\n      <th>Dalc</th>\n      <th>Walc</th>\n      <th>health</th>\n      <th>absences</th>\n      <th>G1</th>\n      <th>G2</th>\n      <th>G3</th>\n    </tr>\n  </thead>\n  <tbody>\n    <tr>\n      <th>0</th>\n      <td>GP</td>\n      <td>F</td>\n      <td>18</td>\n      <td>U</td>\n      <td>GT3</td>\n      <td>A</td>\n      <td>4</td>\n      <td>4</td>\n      <td>at_home</td>\n      <td>teacher</td>\n      <td>...</td>\n      <td>4</td>\n      <td>3</td>\n      <td>4</td>\n      <td>1</td>\n      <td>1</td>\n      <td>3</td>\n      <td>6</td>\n      <td>5</td>\n      <td>6</td>\n      <td>6</td>\n    </tr>\n    <tr>\n      <th>1</th>\n      <td>GP</td>\n      <td>F</td>\n      <td>17</td>\n      <td>U</td>\n      <td>GT3</td>\n      <td>T</td>\n      <td>1</td>\n      <td>1</td>\n      <td>at_home</td>\n      <td>other</td>\n      <td>...</td>\n      <td>5</td>\n      <td>3</td>\n      <td>3</td>\n      <td>1</td>\n      <td>1</td>\n      <td>3</td>\n      <td>4</td>\n      <td>5</td>\n      <td>5</td>\n      <td>6</td>\n    </tr>\n    <tr>\n      <th>2</th>\n      <td>GP</td>\n      <td>F</td>\n      <td>15</td>\n      <td>U</td>\n      <td>LE3</td>\n      <td>T</td>\n      <td>1</td>\n      <td>1</td>\n      <td>at_home</td>\n      <td>other</td>\n      <td>...</td>\n      <td>4</td>\n      <td>3</td>\n      <td>2</td>\n      <td>2</td>\n      <td>3</td>\n      <td>3</td>\n      <td>10</td>\n      <td>7</td>\n      <td>8</td>\n      <td>10</td>\n    </tr>\n    <tr>\n      <th>3</th>\n      <td>GP</td>\n      <td>F</td>\n      <td>15</td>\n      <td>U</td>\n      <td>GT3</td>\n      <td>T</td>\n      <td>4</td>\n      <td>2</td>\n      <td>health</td>\n      <td>services</td>\n      <td>...</td>\n      <td>3</td>\n      <td>2</td>\n      <td>2</td>\n      <td>1</td>\n      <td>1</td>\n      <td>5</td>\n      <td>2</td>\n      <td>15</td>\n      <td>14</td>\n      <td>15</td>\n    </tr>\n    <tr>\n      <th>4</th>\n      <td>GP</td>\n      <td>F</td>\n      <td>16</td>\n      <td>U</td>\n      <td>GT3</td>\n      <td>T</td>\n      <td>3</td>\n      <td>3</td>\n      <td>other</td>\n      <td>other</td>\n      <td>...</td>\n      <td>4</td>\n      <td>3</td>\n      <td>2</td>\n      <td>1</td>\n      <td>2</td>\n      <td>5</td>\n      <td>4</td>\n      <td>6</td>\n      <td>10</td>\n      <td>10</td>\n    </tr>\n  </tbody>\n</table>\n<p>5 rows × 33 columns</p>\n</div>"
     },
     "metadata": {},
     "execution_count": 105
    }
   ],
   "source": [
    "mat.head()"
   ]
  },
  {
   "cell_type": "markdown",
   "metadata": {},
   "source": [
    "**Task 1 (0.25 points).** Count number of boys and girls in the dataset."
   ]
  },
  {
   "cell_type": "code",
   "execution_count": 106,
   "metadata": {},
   "outputs": [
    {
     "output_type": "stream",
     "name": "stdout",
     "text": [
      "187 208\n"
     ]
    }
   ],
   "source": [
    "boys = len(mat.loc[mat.sex=='M'])\n",
    "girls = len(mat.loc[mat.sex=='F'])\n",
    "print(boys, girls) #Done!"
   ]
  },
  {
   "cell_type": "markdown",
   "metadata": {},
   "source": [
    "**Task 2 (0.25 points).** Count number of 17 year old students having math grade G3 between 10 and 15 inclusively "
   ]
  },
  {
   "cell_type": "code",
   "execution_count": 107,
   "metadata": {},
   "outputs": [
    {
     "output_type": "stream",
     "name": "stdout",
     "text": [
      "43\n"
     ]
    }
   ],
   "source": [
    "students_17_year_old = mat.loc[(mat.G3 <= 15) & (mat.G3 > 10) & (mat.age == 17)].count()[0]\n",
    "print(students_17_year_old) #changed TODO"
   ]
  },
  {
   "cell_type": "markdown",
   "metadata": {},
   "source": [
    "**Task 3 (0.5 points).** List top-10 students having biggest average grade (G1, G2, G3)  in math. Count number of boys from that list."
   ]
  },
  {
   "cell_type": "code",
   "execution_count": 108,
   "metadata": {},
   "outputs": [
    {
     "output_type": "stream",
     "name": "stdout",
     "text": [
      "6\n"
     ]
    }
   ],
   "source": [
    "mat['AV_G'] = mat[['G1', 'G2', 'G3']].mean(axis=1)\n",
    "boys_from_top_10 = len(mat.sort_values('AV_G', ascending=False)[0:10].loc[mat.sex == 'M'])\n",
    "print(boys_from_top_10) #Done!"
   ]
  },
  {
   "cell_type": "markdown",
   "metadata": {},
   "source": [
    "**Task 4 (1 point).** Count mean and standard deviation of absences for students with romantic relationship and access to internet"
   ]
  },
  {
   "cell_type": "code",
   "execution_count": 109,
   "metadata": {},
   "outputs": [
    {
     "output_type": "execute_result",
     "data": {
      "text/plain": [
       "    school sex  age address famsize Pstatus  Medu  Fedu      Mjob      Fjob  \\\n",
       "0       GP   F   18       U     GT3       A     4     4   at_home   teacher   \n",
       "1       GP   F   17       U     GT3       T     1     1   at_home     other   \n",
       "2       GP   F   15       U     LE3       T     1     1   at_home     other   \n",
       "3       GP   F   15       U     GT3       T     4     2    health  services   \n",
       "4       GP   F   16       U     GT3       T     3     3     other     other   \n",
       "..     ...  ..  ...     ...     ...     ...   ...   ...       ...       ...   \n",
       "390     MS   M   20       U     LE3       A     2     2  services  services   \n",
       "391     MS   M   17       U     LE3       T     3     1  services  services   \n",
       "392     MS   M   21       R     GT3       T     1     1     other     other   \n",
       "393     MS   M   18       R     LE3       T     3     2  services     other   \n",
       "394     MS   M   19       U     LE3       T     1     1     other   at_home   \n",
       "\n",
       "     ... freetime goout  Dalc  Walc  health absences  G1  G2  G3       AV_G  \n",
       "0    ...        3     4     1     1       3        6   5   6   6   5.666667  \n",
       "1    ...        3     3     1     1       3        4   5   5   6   5.333333  \n",
       "2    ...        3     2     2     3       3       10   7   8  10   8.333333  \n",
       "3    ...        2     2     1     1       5        2  15  14  15  14.666667  \n",
       "4    ...        3     2     1     2       5        4   6  10  10   8.666667  \n",
       "..   ...      ...   ...   ...   ...     ...      ...  ..  ..  ..        ...  \n",
       "390  ...        5     4     4     5       4       11   9   9   9   9.000000  \n",
       "391  ...        4     5     3     4       2        3  14  16  16  15.333333  \n",
       "392  ...        5     3     3     3       3        3  10   8   7   8.333333  \n",
       "393  ...        4     1     3     4       5        0  11  12  10  11.000000  \n",
       "394  ...        2     3     3     3       5        5   8   9   9   8.666667  \n",
       "\n",
       "[395 rows x 34 columns]"
      ],
      "text/html": "<div>\n<style scoped>\n    .dataframe tbody tr th:only-of-type {\n        vertical-align: middle;\n    }\n\n    .dataframe tbody tr th {\n        vertical-align: top;\n    }\n\n    .dataframe thead th {\n        text-align: right;\n    }\n</style>\n<table border=\"1\" class=\"dataframe\">\n  <thead>\n    <tr style=\"text-align: right;\">\n      <th></th>\n      <th>school</th>\n      <th>sex</th>\n      <th>age</th>\n      <th>address</th>\n      <th>famsize</th>\n      <th>Pstatus</th>\n      <th>Medu</th>\n      <th>Fedu</th>\n      <th>Mjob</th>\n      <th>Fjob</th>\n      <th>...</th>\n      <th>freetime</th>\n      <th>goout</th>\n      <th>Dalc</th>\n      <th>Walc</th>\n      <th>health</th>\n      <th>absences</th>\n      <th>G1</th>\n      <th>G2</th>\n      <th>G3</th>\n      <th>AV_G</th>\n    </tr>\n  </thead>\n  <tbody>\n    <tr>\n      <th>0</th>\n      <td>GP</td>\n      <td>F</td>\n      <td>18</td>\n      <td>U</td>\n      <td>GT3</td>\n      <td>A</td>\n      <td>4</td>\n      <td>4</td>\n      <td>at_home</td>\n      <td>teacher</td>\n      <td>...</td>\n      <td>3</td>\n      <td>4</td>\n      <td>1</td>\n      <td>1</td>\n      <td>3</td>\n      <td>6</td>\n      <td>5</td>\n      <td>6</td>\n      <td>6</td>\n      <td>5.666667</td>\n    </tr>\n    <tr>\n      <th>1</th>\n      <td>GP</td>\n      <td>F</td>\n      <td>17</td>\n      <td>U</td>\n      <td>GT3</td>\n      <td>T</td>\n      <td>1</td>\n      <td>1</td>\n      <td>at_home</td>\n      <td>other</td>\n      <td>...</td>\n      <td>3</td>\n      <td>3</td>\n      <td>1</td>\n      <td>1</td>\n      <td>3</td>\n      <td>4</td>\n      <td>5</td>\n      <td>5</td>\n      <td>6</td>\n      <td>5.333333</td>\n    </tr>\n    <tr>\n      <th>2</th>\n      <td>GP</td>\n      <td>F</td>\n      <td>15</td>\n      <td>U</td>\n      <td>LE3</td>\n      <td>T</td>\n      <td>1</td>\n      <td>1</td>\n      <td>at_home</td>\n      <td>other</td>\n      <td>...</td>\n      <td>3</td>\n      <td>2</td>\n      <td>2</td>\n      <td>3</td>\n      <td>3</td>\n      <td>10</td>\n      <td>7</td>\n      <td>8</td>\n      <td>10</td>\n      <td>8.333333</td>\n    </tr>\n    <tr>\n      <th>3</th>\n      <td>GP</td>\n      <td>F</td>\n      <td>15</td>\n      <td>U</td>\n      <td>GT3</td>\n      <td>T</td>\n      <td>4</td>\n      <td>2</td>\n      <td>health</td>\n      <td>services</td>\n      <td>...</td>\n      <td>2</td>\n      <td>2</td>\n      <td>1</td>\n      <td>1</td>\n      <td>5</td>\n      <td>2</td>\n      <td>15</td>\n      <td>14</td>\n      <td>15</td>\n      <td>14.666667</td>\n    </tr>\n    <tr>\n      <th>4</th>\n      <td>GP</td>\n      <td>F</td>\n      <td>16</td>\n      <td>U</td>\n      <td>GT3</td>\n      <td>T</td>\n      <td>3</td>\n      <td>3</td>\n      <td>other</td>\n      <td>other</td>\n      <td>...</td>\n      <td>3</td>\n      <td>2</td>\n      <td>1</td>\n      <td>2</td>\n      <td>5</td>\n      <td>4</td>\n      <td>6</td>\n      <td>10</td>\n      <td>10</td>\n      <td>8.666667</td>\n    </tr>\n    <tr>\n      <th>...</th>\n      <td>...</td>\n      <td>...</td>\n      <td>...</td>\n      <td>...</td>\n      <td>...</td>\n      <td>...</td>\n      <td>...</td>\n      <td>...</td>\n      <td>...</td>\n      <td>...</td>\n      <td>...</td>\n      <td>...</td>\n      <td>...</td>\n      <td>...</td>\n      <td>...</td>\n      <td>...</td>\n      <td>...</td>\n      <td>...</td>\n      <td>...</td>\n      <td>...</td>\n      <td>...</td>\n    </tr>\n    <tr>\n      <th>390</th>\n      <td>MS</td>\n      <td>M</td>\n      <td>20</td>\n      <td>U</td>\n      <td>LE3</td>\n      <td>A</td>\n      <td>2</td>\n      <td>2</td>\n      <td>services</td>\n      <td>services</td>\n      <td>...</td>\n      <td>5</td>\n      <td>4</td>\n      <td>4</td>\n      <td>5</td>\n      <td>4</td>\n      <td>11</td>\n      <td>9</td>\n      <td>9</td>\n      <td>9</td>\n      <td>9.000000</td>\n    </tr>\n    <tr>\n      <th>391</th>\n      <td>MS</td>\n      <td>M</td>\n      <td>17</td>\n      <td>U</td>\n      <td>LE3</td>\n      <td>T</td>\n      <td>3</td>\n      <td>1</td>\n      <td>services</td>\n      <td>services</td>\n      <td>...</td>\n      <td>4</td>\n      <td>5</td>\n      <td>3</td>\n      <td>4</td>\n      <td>2</td>\n      <td>3</td>\n      <td>14</td>\n      <td>16</td>\n      <td>16</td>\n      <td>15.333333</td>\n    </tr>\n    <tr>\n      <th>392</th>\n      <td>MS</td>\n      <td>M</td>\n      <td>21</td>\n      <td>R</td>\n      <td>GT3</td>\n      <td>T</td>\n      <td>1</td>\n      <td>1</td>\n      <td>other</td>\n      <td>other</td>\n      <td>...</td>\n      <td>5</td>\n      <td>3</td>\n      <td>3</td>\n      <td>3</td>\n      <td>3</td>\n      <td>3</td>\n      <td>10</td>\n      <td>8</td>\n      <td>7</td>\n      <td>8.333333</td>\n    </tr>\n    <tr>\n      <th>393</th>\n      <td>MS</td>\n      <td>M</td>\n      <td>18</td>\n      <td>R</td>\n      <td>LE3</td>\n      <td>T</td>\n      <td>3</td>\n      <td>2</td>\n      <td>services</td>\n      <td>other</td>\n      <td>...</td>\n      <td>4</td>\n      <td>1</td>\n      <td>3</td>\n      <td>4</td>\n      <td>5</td>\n      <td>0</td>\n      <td>11</td>\n      <td>12</td>\n      <td>10</td>\n      <td>11.000000</td>\n    </tr>\n    <tr>\n      <th>394</th>\n      <td>MS</td>\n      <td>M</td>\n      <td>19</td>\n      <td>U</td>\n      <td>LE3</td>\n      <td>T</td>\n      <td>1</td>\n      <td>1</td>\n      <td>other</td>\n      <td>at_home</td>\n      <td>...</td>\n      <td>2</td>\n      <td>3</td>\n      <td>3</td>\n      <td>3</td>\n      <td>5</td>\n      <td>5</td>\n      <td>8</td>\n      <td>9</td>\n      <td>9</td>\n      <td>8.666667</td>\n    </tr>\n  </tbody>\n</table>\n<p>395 rows × 34 columns</p>\n</div>"
     },
     "metadata": {},
     "execution_count": 109
    }
   ],
   "source": [
    "tables = por.merge(mat, how='right')\n",
    "tables"
   ]
  },
  {
   "cell_type": "code",
   "execution_count": 110,
   "metadata": {},
   "outputs": [],
   "source": [
    "mean = tables.loc[(tables.romantic=='yes') & (tables.internet=='yes')]['absences'].mean()\n",
    "std = tables.loc[(tables.romantic=='yes') & (tables.internet=='yes')]['absences'].std()"
   ]
  },
  {
   "cell_type": "code",
   "execution_count": 111,
   "metadata": {},
   "outputs": [
    {
     "output_type": "execute_result",
     "data": {
      "text/plain": [
       "(8.155172413793103, 11.25329203873895)"
      ]
     },
     "metadata": {},
     "execution_count": 111
    }
   ],
   "source": [
    "mean, std #Done!"
   ]
  },
  {
   "cell_type": "markdown",
   "metadata": {},
   "source": [
    "**Task 5 (1.5 points).** Count number of students for each existing age. Return list with counts sorted by students age in ascending order."
   ]
  },
  {
   "cell_type": "markdown",
   "metadata": {},
   "source": [
    "Note: On 0 index in list we have number of 15 year old students, on 1st index number of 16 year old students, ..."
   ]
  },
  {
   "cell_type": "code",
   "execution_count": 112,
   "metadata": {},
   "outputs": [],
   "source": [
    "student_counts_for_each_age = list(tables.groupby(by=\"age\").age.count())"
   ]
  },
  {
   "cell_type": "code",
   "execution_count": 113,
   "metadata": {},
   "outputs": [
    {
     "output_type": "execute_result",
     "data": {
      "text/plain": [
       "[82, 104, 98, 82, 24, 3, 1, 1]"
      ]
     },
     "metadata": {},
     "execution_count": 113
    }
   ],
   "source": [
    "student_counts_for_each_age #Done!"
   ]
  },
  {
   "cell_type": "markdown",
   "metadata": {},
   "source": [
    "**Task 6* (2 points).** Find most frequent pair (Fjob, Mjob) of students from math grade table."
   ]
  },
  {
   "cell_type": "markdown",
   "metadata": {},
   "source": [
    "Note 1: Do not take student into account if at least one of parents job name is \"other\". <br>\n",
    "Note 2: Pairs (Fjob: teacher, Mjob: at_home) and (Fjob: at_home, Mjob: teacher) are different and their occurrences should be counted separately."
   ]
  },
  {
   "cell_type": "markdown",
   "metadata": {},
   "source": [
    "Hint: groupby (Fjob, Mjob), count rows, descending sort by count, reset_index, take first row values."
   ]
  },
  {
   "cell_type": "code",
   "execution_count": 114,
   "metadata": {},
   "outputs": [],
   "source": [
    "jm = mat.loc[(mat.Fjob != 'other') & (mat.Mjob != 'other')]\n",
    "job = jm.groupby(['Fjob', 'Mjob'])['Fjob'].count()"
   ]
  },
  {
   "cell_type": "code",
   "execution_count": 115,
   "metadata": {},
   "outputs": [],
   "source": [
    "father, mother = 'services', 'services'\n",
    "# Done!"
   ]
  },
  {
   "cell_type": "markdown",
   "metadata": {},
   "source": [
    "**Task 7 (1 point).** Count number of students presenting both in mat and por tables."
   ]
  },
  {
   "cell_type": "markdown",
   "metadata": {},
   "source": [
    "_Note 1_: That's a pity that tables haven't foreign keys for joining together. The uniqueness of the student is determined by the uniqueness of the set of all fields except subject fields (G1, G2, G3). <br>\n",
    "_Note 2_: Finally you'd better to come up with table having all student personal information and non-null grades in math [\"G1_mat\", \"G2_mat\", \"G3_mat\"] and [\"G1_por\", \"G2_por\", \"G3_por\"]. Joined dataframe could be helpful for further usage. <br>\n",
    "Note 3: probably you would like to use \"merge\" to avoid duplicating column names from right and left dataframe."
   ]
  },
  {
   "cell_type": "code",
   "execution_count": 116,
   "metadata": {},
   "outputs": [],
   "source": [
    "both_present =  1000 \n",
    "# your code here TODO"
   ]
  },
  {
   "cell_type": "markdown",
   "metadata": {},
   "source": [
    "**Task 8 (1.5 points).** Find absolute differences between average mat and por student final grades for each school (GP & MS)"
   ]
  },
  {
   "cell_type": "code",
   "execution_count": 117,
   "metadata": {},
   "outputs": [],
   "source": [
    "GP_diff, MS_diff = 1, 2\n",
    "# your code here TODO"
   ]
  },
  {
   "cell_type": "markdown",
   "metadata": {},
   "source": [
    "**Task 9* (2 points).** Find top-5 linearly dependent pairs of numeric student features from mat table."
   ]
  },
  {
   "source": [
    "_Note 1_: Use absolute Peason correlation value for measuring the linear relationship between features."
   ],
   "cell_type": "markdown",
   "metadata": {}
  },
  {
   "cell_type": "code",
   "execution_count": 118,
   "metadata": {},
   "outputs": [
    {
     "output_type": "execute_result",
     "data": {
      "text/plain": [
       "MultiIndex([(  'G3',   'G2'),\n",
       "            (  'G1',   'G2'),\n",
       "            (  'G1',   'G3'),\n",
       "            ('Dalc', 'Walc'),\n",
       "            ('Fedu', 'Medu')],\n",
       "           )"
      ]
     },
     "metadata": {},
     "execution_count": 118
    }
   ],
   "source": [
    "mat = mat.drop('AV_G', 1)\n",
    "corr = mat.corr(method='pearson').stack()\n",
    "corr = corr[corr.index.get_level_values(0) != corr.index.get_level_values(1)].sort_values(ascending=False)\n",
    "corr[::2][0:5].index\n"
   ]
  },
  {
   "cell_type": "markdown",
   "metadata": {},
   "source": [
    "Correlation coefficients are used in statistics to measure how strong a relationship is between two variables. There are several types of correlation coefficients, but the most popular is Pearson’s. It can take value from -1 to 1 inclusive. \n",
    " - A correlation coefficient of 1 means that for every positive increase in one variable, there is a positive increase of a fixed proportion in the other. For example, shoe sizes go up in (almost) perfect correlation with foot length.\n",
    " - A correlation coefficient of -1 means that for every positive increase in one variable, there is a negative decrease of a fixed proportion in the other. For example, the amount of gas in a tank decreases in (almost) perfect correlation with speed.\n",
    " - Zero means that for every increase of one variable we do not expect always increase or decrease of another variable. It is not a proof, that variables are not related with each other. That only means NO LINEAR relationship between them. Suppose we have variables x and y connected by a sinusoidal law $y=sin(x)$. There is obvious no linear relationship between them (for $x \\in [0, \\frac{\\pi}{2}]$ y increases unevenly ant later for $x \\in [\\frac{\\pi}{2}, \\pi]$ y decreases unevenly). Even though they relate to each other by more complex law.\n",
    " \n",
    "More mathematical explanation https://en.wikipedia.org/wiki/Correlation_and_dependence."
   ]
  },
  {
   "cell_type": "code",
   "execution_count": 119,
   "metadata": {},
   "outputs": [
    {
     "output_type": "display_data",
     "data": {
      "text/plain": "<Figure size 432x288 with 2 Axes>",
      "image/svg+xml": "<?xml version=\"1.0\" encoding=\"utf-8\" standalone=\"no\"?>\n<!DOCTYPE svg PUBLIC \"-//W3C//DTD SVG 1.1//EN\"\n  \"http://www.w3.org/Graphics/SVG/1.1/DTD/svg11.dtd\">\n<!-- Created with matplotlib (https://matplotlib.org/) -->\n<svg height=\"277.314375pt\" version=\"1.1\" viewBox=\"0 0 570.766875 277.314375\" width=\"570.766875pt\" xmlns=\"http://www.w3.org/2000/svg\" xmlns:xlink=\"http://www.w3.org/1999/xlink\">\n <defs>\n  <style type=\"text/css\">\n*{stroke-linecap:butt;stroke-linejoin:round;}\n  </style>\n </defs>\n <g id=\"figure_1\">\n  <g id=\"patch_1\">\n   <path d=\"M 0 277.314375 \nL 570.766875 277.314375 \nL 570.766875 0 \nL 0 0 \nz\n\" style=\"fill:none;\"/>\n  </g>\n  <g id=\"axes_1\">\n   <g id=\"patch_2\">\n    <path d=\"M 117.983437 94.798125 \nL 452.783437 94.798125 \nL 452.783437 22.318125 \nL 117.983437 22.318125 \nz\n\" style=\"fill:#ffffff;\"/>\n   </g>\n   <g id=\"PathCollection_1\">\n    <defs>\n     <path d=\"M 0 3 \nC 0.795609 3 1.55874 2.683901 2.12132 2.12132 \nC 2.683901 1.55874 3 0.795609 3 0 \nC 3 -0.795609 2.683901 -1.55874 2.12132 -2.12132 \nC 1.55874 -2.683901 0.795609 -3 0 -3 \nC -0.795609 -3 -1.55874 -2.683901 -2.12132 -2.12132 \nC -2.683901 -1.55874 -3 -0.795609 -3 0 \nC -3 0.795609 -2.683901 1.55874 -2.12132 2.12132 \nC -1.55874 2.683901 -0.795609 3 0 3 \nz\n\" id=\"mbcecf2ab7e\" style=\"stroke:#1f77b4;\"/>\n    </defs>\n    <g clip-path=\"url(#p405ab848ef)\">\n     <use style=\"fill:#1f77b4;stroke:#1f77b4;\" x=\"134.076328\" xlink:href=\"#mbcecf2ab7e\" y=\"26.24544\"/>\n     <use style=\"fill:#1f77b4;stroke:#1f77b4;\" x=\"143.838077\" xlink:href=\"#mbcecf2ab7e\" y=\"28.33013\"/>\n     <use style=\"fill:#1f77b4;stroke:#1f77b4;\" x=\"153.599826\" xlink:href=\"#mbcecf2ab7e\" y=\"30.414819\"/>\n     <use style=\"fill:#1f77b4;stroke:#1f77b4;\" x=\"163.361575\" xlink:href=\"#mbcecf2ab7e\" y=\"32.499508\"/>\n     <use style=\"fill:#1f77b4;stroke:#1f77b4;\" x=\"173.123324\" xlink:href=\"#mbcecf2ab7e\" y=\"34.584198\"/>\n     <use style=\"fill:#1f77b4;stroke:#1f77b4;\" x=\"182.885073\" xlink:href=\"#mbcecf2ab7e\" y=\"36.668887\"/>\n     <use style=\"fill:#1f77b4;stroke:#1f77b4;\" x=\"192.646822\" xlink:href=\"#mbcecf2ab7e\" y=\"38.753576\"/>\n     <use style=\"fill:#1f77b4;stroke:#1f77b4;\" x=\"202.408571\" xlink:href=\"#mbcecf2ab7e\" y=\"40.838266\"/>\n     <use style=\"fill:#1f77b4;stroke:#1f77b4;\" x=\"212.17032\" xlink:href=\"#mbcecf2ab7e\" y=\"42.922955\"/>\n     <use style=\"fill:#1f77b4;stroke:#1f77b4;\" x=\"221.932069\" xlink:href=\"#mbcecf2ab7e\" y=\"45.007644\"/>\n     <use style=\"fill:#1f77b4;stroke:#1f77b4;\" x=\"231.693818\" xlink:href=\"#mbcecf2ab7e\" y=\"47.092334\"/>\n     <use style=\"fill:#1f77b4;stroke:#1f77b4;\" x=\"241.455567\" xlink:href=\"#mbcecf2ab7e\" y=\"49.177023\"/>\n     <use style=\"fill:#1f77b4;stroke:#1f77b4;\" x=\"251.217316\" xlink:href=\"#mbcecf2ab7e\" y=\"51.261712\"/>\n     <use style=\"fill:#1f77b4;stroke:#1f77b4;\" x=\"260.979065\" xlink:href=\"#mbcecf2ab7e\" y=\"53.346402\"/>\n     <use style=\"fill:#1f77b4;stroke:#1f77b4;\" x=\"270.740814\" xlink:href=\"#mbcecf2ab7e\" y=\"55.431091\"/>\n     <use style=\"fill:#1f77b4;stroke:#1f77b4;\" x=\"280.502563\" xlink:href=\"#mbcecf2ab7e\" y=\"57.51578\"/>\n     <use style=\"fill:#1f77b4;stroke:#1f77b4;\" x=\"290.264312\" xlink:href=\"#mbcecf2ab7e\" y=\"59.60047\"/>\n     <use style=\"fill:#1f77b4;stroke:#1f77b4;\" x=\"300.026061\" xlink:href=\"#mbcecf2ab7e\" y=\"61.685159\"/>\n     <use style=\"fill:#1f77b4;stroke:#1f77b4;\" x=\"309.78781\" xlink:href=\"#mbcecf2ab7e\" y=\"63.769848\"/>\n     <use style=\"fill:#1f77b4;stroke:#1f77b4;\" x=\"319.549559\" xlink:href=\"#mbcecf2ab7e\" y=\"65.854538\"/>\n     <use style=\"fill:#1f77b4;stroke:#1f77b4;\" x=\"329.311308\" xlink:href=\"#mbcecf2ab7e\" y=\"67.939227\"/>\n     <use style=\"fill:#1f77b4;stroke:#1f77b4;\" x=\"339.073057\" xlink:href=\"#mbcecf2ab7e\" y=\"70.023916\"/>\n     <use style=\"fill:#1f77b4;stroke:#1f77b4;\" x=\"348.834806\" xlink:href=\"#mbcecf2ab7e\" y=\"72.108606\"/>\n     <use style=\"fill:#1f77b4;stroke:#1f77b4;\" x=\"358.596555\" xlink:href=\"#mbcecf2ab7e\" y=\"74.193295\"/>\n     <use style=\"fill:#1f77b4;stroke:#1f77b4;\" x=\"368.358304\" xlink:href=\"#mbcecf2ab7e\" y=\"76.277984\"/>\n     <use style=\"fill:#1f77b4;stroke:#1f77b4;\" x=\"378.120053\" xlink:href=\"#mbcecf2ab7e\" y=\"78.362674\"/>\n     <use style=\"fill:#1f77b4;stroke:#1f77b4;\" x=\"387.881802\" xlink:href=\"#mbcecf2ab7e\" y=\"80.447363\"/>\n     <use style=\"fill:#1f77b4;stroke:#1f77b4;\" x=\"397.643551\" xlink:href=\"#mbcecf2ab7e\" y=\"82.532052\"/>\n     <use style=\"fill:#1f77b4;stroke:#1f77b4;\" x=\"407.4053\" xlink:href=\"#mbcecf2ab7e\" y=\"84.616742\"/>\n     <use style=\"fill:#1f77b4;stroke:#1f77b4;\" x=\"417.167049\" xlink:href=\"#mbcecf2ab7e\" y=\"86.701431\"/>\n     <use style=\"fill:#1f77b4;stroke:#1f77b4;\" x=\"426.928798\" xlink:href=\"#mbcecf2ab7e\" y=\"88.78612\"/>\n     <use style=\"fill:#1f77b4;stroke:#1f77b4;\" x=\"436.690547\" xlink:href=\"#mbcecf2ab7e\" y=\"90.87081\"/>\n    </g>\n   </g>\n   <g id=\"matplotlib.axis_1\">\n    <g id=\"xtick_1\">\n     <g id=\"line2d_1\">\n      <defs>\n       <path d=\"M 0 0 \nL 0 3.5 \n\" id=\"m42b78033c8\" style=\"stroke:#000000;stroke-width:0.8;\"/>\n      </defs>\n      <g>\n       <use style=\"stroke:#000000;stroke-width:0.8;\" x=\"134.076328\" xlink:href=\"#m42b78033c8\" y=\"94.798125\"/>\n      </g>\n     </g>\n     <g id=\"text_1\">\n      <!-- 0.0 -->\n      <defs>\n       <path d=\"M 31.78125 66.40625 \nQ 24.171875 66.40625 20.328125 58.90625 \nQ 16.5 51.421875 16.5 36.375 \nQ 16.5 21.390625 20.328125 13.890625 \nQ 24.171875 6.390625 31.78125 6.390625 \nQ 39.453125 6.390625 43.28125 13.890625 \nQ 47.125 21.390625 47.125 36.375 \nQ 47.125 51.421875 43.28125 58.90625 \nQ 39.453125 66.40625 31.78125 66.40625 \nz\nM 31.78125 74.21875 \nQ 44.046875 74.21875 50.515625 64.515625 \nQ 56.984375 54.828125 56.984375 36.375 \nQ 56.984375 17.96875 50.515625 8.265625 \nQ 44.046875 -1.421875 31.78125 -1.421875 \nQ 19.53125 -1.421875 13.0625 8.265625 \nQ 6.59375 17.96875 6.59375 36.375 \nQ 6.59375 54.828125 13.0625 64.515625 \nQ 19.53125 74.21875 31.78125 74.21875 \nz\n\" id=\"DejaVuSans-48\"/>\n       <path d=\"M 10.6875 12.40625 \nL 21 12.40625 \nL 21 0 \nL 10.6875 0 \nz\n\" id=\"DejaVuSans-46\"/>\n      </defs>\n      <g transform=\"translate(126.124766 109.396562)scale(0.1 -0.1)\">\n       <use xlink:href=\"#DejaVuSans-48\"/>\n       <use x=\"63.623047\" xlink:href=\"#DejaVuSans-46\"/>\n       <use x=\"95.410156\" xlink:href=\"#DejaVuSans-48\"/>\n      </g>\n     </g>\n    </g>\n    <g id=\"xtick_2\">\n     <g id=\"line2d_2\">\n      <g>\n       <use style=\"stroke:#000000;stroke-width:0.8;\" x=\"182.885073\" xlink:href=\"#m42b78033c8\" y=\"94.798125\"/>\n      </g>\n     </g>\n     <g id=\"text_2\">\n      <!-- 0.5 -->\n      <defs>\n       <path d=\"M 10.796875 72.90625 \nL 49.515625 72.90625 \nL 49.515625 64.59375 \nL 19.828125 64.59375 \nL 19.828125 46.734375 \nQ 21.96875 47.46875 24.109375 47.828125 \nQ 26.265625 48.1875 28.421875 48.1875 \nQ 40.625 48.1875 47.75 41.5 \nQ 54.890625 34.8125 54.890625 23.390625 \nQ 54.890625 11.625 47.5625 5.09375 \nQ 40.234375 -1.421875 26.90625 -1.421875 \nQ 22.3125 -1.421875 17.546875 -0.640625 \nQ 12.796875 0.140625 7.71875 1.703125 \nL 7.71875 11.625 \nQ 12.109375 9.234375 16.796875 8.0625 \nQ 21.484375 6.890625 26.703125 6.890625 \nQ 35.15625 6.890625 40.078125 11.328125 \nQ 45.015625 15.765625 45.015625 23.390625 \nQ 45.015625 31 40.078125 35.4375 \nQ 35.15625 39.890625 26.703125 39.890625 \nQ 22.75 39.890625 18.8125 39.015625 \nQ 14.890625 38.140625 10.796875 36.28125 \nz\n\" id=\"DejaVuSans-53\"/>\n      </defs>\n      <g transform=\"translate(174.933511 109.396562)scale(0.1 -0.1)\">\n       <use xlink:href=\"#DejaVuSans-48\"/>\n       <use x=\"63.623047\" xlink:href=\"#DejaVuSans-46\"/>\n       <use x=\"95.410156\" xlink:href=\"#DejaVuSans-53\"/>\n      </g>\n     </g>\n    </g>\n    <g id=\"xtick_3\">\n     <g id=\"line2d_3\">\n      <g>\n       <use style=\"stroke:#000000;stroke-width:0.8;\" x=\"231.693818\" xlink:href=\"#m42b78033c8\" y=\"94.798125\"/>\n      </g>\n     </g>\n     <g id=\"text_3\">\n      <!-- 1.0 -->\n      <defs>\n       <path d=\"M 12.40625 8.296875 \nL 28.515625 8.296875 \nL 28.515625 63.921875 \nL 10.984375 60.40625 \nL 10.984375 69.390625 \nL 28.421875 72.90625 \nL 38.28125 72.90625 \nL 38.28125 8.296875 \nL 54.390625 8.296875 \nL 54.390625 0 \nL 12.40625 0 \nz\n\" id=\"DejaVuSans-49\"/>\n      </defs>\n      <g transform=\"translate(223.742256 109.396562)scale(0.1 -0.1)\">\n       <use xlink:href=\"#DejaVuSans-49\"/>\n       <use x=\"63.623047\" xlink:href=\"#DejaVuSans-46\"/>\n       <use x=\"95.410156\" xlink:href=\"#DejaVuSans-48\"/>\n      </g>\n     </g>\n    </g>\n    <g id=\"xtick_4\">\n     <g id=\"line2d_4\">\n      <g>\n       <use style=\"stroke:#000000;stroke-width:0.8;\" x=\"280.502563\" xlink:href=\"#m42b78033c8\" y=\"94.798125\"/>\n      </g>\n     </g>\n     <g id=\"text_4\">\n      <!-- 1.5 -->\n      <g transform=\"translate(272.551001 109.396562)scale(0.1 -0.1)\">\n       <use xlink:href=\"#DejaVuSans-49\"/>\n       <use x=\"63.623047\" xlink:href=\"#DejaVuSans-46\"/>\n       <use x=\"95.410156\" xlink:href=\"#DejaVuSans-53\"/>\n      </g>\n     </g>\n    </g>\n    <g id=\"xtick_5\">\n     <g id=\"line2d_5\">\n      <g>\n       <use style=\"stroke:#000000;stroke-width:0.8;\" x=\"329.311308\" xlink:href=\"#m42b78033c8\" y=\"94.798125\"/>\n      </g>\n     </g>\n     <g id=\"text_5\">\n      <!-- 2.0 -->\n      <defs>\n       <path d=\"M 19.1875 8.296875 \nL 53.609375 8.296875 \nL 53.609375 0 \nL 7.328125 0 \nL 7.328125 8.296875 \nQ 12.9375 14.109375 22.625 23.890625 \nQ 32.328125 33.6875 34.8125 36.53125 \nQ 39.546875 41.84375 41.421875 45.53125 \nQ 43.3125 49.21875 43.3125 52.78125 \nQ 43.3125 58.59375 39.234375 62.25 \nQ 35.15625 65.921875 28.609375 65.921875 \nQ 23.96875 65.921875 18.8125 64.3125 \nQ 13.671875 62.703125 7.8125 59.421875 \nL 7.8125 69.390625 \nQ 13.765625 71.78125 18.9375 73 \nQ 24.125 74.21875 28.421875 74.21875 \nQ 39.75 74.21875 46.484375 68.546875 \nQ 53.21875 62.890625 53.21875 53.421875 \nQ 53.21875 48.921875 51.53125 44.890625 \nQ 49.859375 40.875 45.40625 35.40625 \nQ 44.1875 33.984375 37.640625 27.21875 \nQ 31.109375 20.453125 19.1875 8.296875 \nz\n\" id=\"DejaVuSans-50\"/>\n      </defs>\n      <g transform=\"translate(321.359745 109.396562)scale(0.1 -0.1)\">\n       <use xlink:href=\"#DejaVuSans-50\"/>\n       <use x=\"63.623047\" xlink:href=\"#DejaVuSans-46\"/>\n       <use x=\"95.410156\" xlink:href=\"#DejaVuSans-48\"/>\n      </g>\n     </g>\n    </g>\n    <g id=\"xtick_6\">\n     <g id=\"line2d_6\">\n      <g>\n       <use style=\"stroke:#000000;stroke-width:0.8;\" x=\"378.120053\" xlink:href=\"#m42b78033c8\" y=\"94.798125\"/>\n      </g>\n     </g>\n     <g id=\"text_6\">\n      <!-- 2.5 -->\n      <g transform=\"translate(370.16849 109.396562)scale(0.1 -0.1)\">\n       <use xlink:href=\"#DejaVuSans-50\"/>\n       <use x=\"63.623047\" xlink:href=\"#DejaVuSans-46\"/>\n       <use x=\"95.410156\" xlink:href=\"#DejaVuSans-53\"/>\n      </g>\n     </g>\n    </g>\n    <g id=\"xtick_7\">\n     <g id=\"line2d_7\">\n      <g>\n       <use style=\"stroke:#000000;stroke-width:0.8;\" x=\"426.928798\" xlink:href=\"#m42b78033c8\" y=\"94.798125\"/>\n      </g>\n     </g>\n     <g id=\"text_7\">\n      <!-- 3.0 -->\n      <defs>\n       <path d=\"M 40.578125 39.3125 \nQ 47.65625 37.796875 51.625 33 \nQ 55.609375 28.21875 55.609375 21.1875 \nQ 55.609375 10.40625 48.1875 4.484375 \nQ 40.765625 -1.421875 27.09375 -1.421875 \nQ 22.515625 -1.421875 17.65625 -0.515625 \nQ 12.796875 0.390625 7.625 2.203125 \nL 7.625 11.71875 \nQ 11.71875 9.328125 16.59375 8.109375 \nQ 21.484375 6.890625 26.8125 6.890625 \nQ 36.078125 6.890625 40.9375 10.546875 \nQ 45.796875 14.203125 45.796875 21.1875 \nQ 45.796875 27.640625 41.28125 31.265625 \nQ 36.765625 34.90625 28.71875 34.90625 \nL 20.21875 34.90625 \nL 20.21875 43.015625 \nL 29.109375 43.015625 \nQ 36.375 43.015625 40.234375 45.921875 \nQ 44.09375 48.828125 44.09375 54.296875 \nQ 44.09375 59.90625 40.109375 62.90625 \nQ 36.140625 65.921875 28.71875 65.921875 \nQ 24.65625 65.921875 20.015625 65.03125 \nQ 15.375 64.15625 9.8125 62.3125 \nL 9.8125 71.09375 \nQ 15.4375 72.65625 20.34375 73.4375 \nQ 25.25 74.21875 29.59375 74.21875 \nQ 40.828125 74.21875 47.359375 69.109375 \nQ 53.90625 64.015625 53.90625 55.328125 \nQ 53.90625 49.265625 50.4375 45.09375 \nQ 46.96875 40.921875 40.578125 39.3125 \nz\n\" id=\"DejaVuSans-51\"/>\n      </defs>\n      <g transform=\"translate(418.977235 109.396562)scale(0.1 -0.1)\">\n       <use xlink:href=\"#DejaVuSans-51\"/>\n       <use x=\"63.623047\" xlink:href=\"#DejaVuSans-46\"/>\n       <use x=\"95.410156\" xlink:href=\"#DejaVuSans-48\"/>\n      </g>\n     </g>\n    </g>\n    <g id=\"text_8\">\n     <!-- X -->\n     <defs>\n      <path d=\"M 6.296875 72.90625 \nL 16.890625 72.90625 \nL 35.015625 45.796875 \nL 53.21875 72.90625 \nL 63.8125 72.90625 \nL 40.375 37.890625 \nL 65.375 0 \nL 54.78125 0 \nL 34.28125 31 \nL 13.625 0 \nL 2.984375 0 \nL 29 38.921875 \nz\n\" id=\"DejaVuSans-88\"/>\n     </defs>\n     <g transform=\"translate(281.958438 123.074687)scale(0.1 -0.1)\">\n      <use xlink:href=\"#DejaVuSans-88\"/>\n     </g>\n    </g>\n   </g>\n   <g id=\"matplotlib.axis_2\">\n    <g id=\"ytick_1\">\n     <g id=\"line2d_8\">\n      <defs>\n       <path d=\"M 0 0 \nL -3.5 0 \n\" id=\"m31cb61d802\" style=\"stroke:#000000;stroke-width:0.8;\"/>\n      </defs>\n      <g>\n       <use style=\"stroke:#000000;stroke-width:0.8;\" x=\"117.983437\" xlink:href=\"#m31cb61d802\" y=\"67.939227\"/>\n      </g>\n     </g>\n     <g id=\"text_9\">\n      <!-- 8 -->\n      <defs>\n       <path d=\"M 31.78125 34.625 \nQ 24.75 34.625 20.71875 30.859375 \nQ 16.703125 27.09375 16.703125 20.515625 \nQ 16.703125 13.921875 20.71875 10.15625 \nQ 24.75 6.390625 31.78125 6.390625 \nQ 38.8125 6.390625 42.859375 10.171875 \nQ 46.921875 13.96875 46.921875 20.515625 \nQ 46.921875 27.09375 42.890625 30.859375 \nQ 38.875 34.625 31.78125 34.625 \nz\nM 21.921875 38.8125 \nQ 15.578125 40.375 12.03125 44.71875 \nQ 8.5 49.078125 8.5 55.328125 \nQ 8.5 64.0625 14.71875 69.140625 \nQ 20.953125 74.21875 31.78125 74.21875 \nQ 42.671875 74.21875 48.875 69.140625 \nQ 55.078125 64.0625 55.078125 55.328125 \nQ 55.078125 49.078125 51.53125 44.71875 \nQ 48 40.375 41.703125 38.8125 \nQ 48.828125 37.15625 52.796875 32.3125 \nQ 56.78125 27.484375 56.78125 20.515625 \nQ 56.78125 9.90625 50.3125 4.234375 \nQ 43.84375 -1.421875 31.78125 -1.421875 \nQ 19.734375 -1.421875 13.25 4.234375 \nQ 6.78125 9.90625 6.78125 20.515625 \nQ 6.78125 27.484375 10.78125 32.3125 \nQ 14.796875 37.15625 21.921875 38.8125 \nz\nM 18.3125 54.390625 \nQ 18.3125 48.734375 21.84375 45.5625 \nQ 25.390625 42.390625 31.78125 42.390625 \nQ 38.140625 42.390625 41.71875 45.5625 \nQ 45.3125 48.734375 45.3125 54.390625 \nQ 45.3125 60.0625 41.71875 63.234375 \nQ 38.140625 66.40625 31.78125 66.40625 \nQ 25.390625 66.40625 21.84375 63.234375 \nQ 18.3125 60.0625 18.3125 54.390625 \nz\n\" id=\"DejaVuSans-56\"/>\n      </defs>\n      <g transform=\"translate(104.620937 71.738446)scale(0.1 -0.1)\">\n       <use xlink:href=\"#DejaVuSans-56\"/>\n      </g>\n     </g>\n    </g>\n    <g id=\"ytick_2\">\n     <g id=\"line2d_9\">\n      <g>\n       <use style=\"stroke:#000000;stroke-width:0.8;\" x=\"117.983437\" xlink:href=\"#m31cb61d802\" y=\"26.24544\"/>\n      </g>\n     </g>\n     <g id=\"text_10\">\n      <!-- 10 -->\n      <g transform=\"translate(98.258437 30.044659)scale(0.1 -0.1)\">\n       <use xlink:href=\"#DejaVuSans-49\"/>\n       <use x=\"63.623047\" xlink:href=\"#DejaVuSans-48\"/>\n      </g>\n     </g>\n    </g>\n    <g id=\"text_11\">\n     <!-- Y =-X + 10 -->\n     <defs>\n      <path d=\"M -0.203125 72.90625 \nL 10.40625 72.90625 \nL 30.609375 42.921875 \nL 50.6875 72.90625 \nL 61.28125 72.90625 \nL 35.5 34.71875 \nL 35.5 0 \nL 25.59375 0 \nL 25.59375 34.71875 \nz\n\" id=\"DejaVuSans-89\"/>\n      <path id=\"DejaVuSans-32\"/>\n      <path d=\"M 10.59375 45.40625 \nL 73.1875 45.40625 \nL 73.1875 37.203125 \nL 10.59375 37.203125 \nz\nM 10.59375 25.484375 \nL 73.1875 25.484375 \nL 73.1875 17.1875 \nL 10.59375 17.1875 \nz\n\" id=\"DejaVuSans-61\"/>\n      <path d=\"M 4.890625 31.390625 \nL 31.203125 31.390625 \nL 31.203125 23.390625 \nL 4.890625 23.390625 \nz\n\" id=\"DejaVuSans-45\"/>\n      <path d=\"M 46 62.703125 \nL 46 35.5 \nL 73.1875 35.5 \nL 73.1875 27.203125 \nL 46 27.203125 \nL 46 0 \nL 37.796875 0 \nL 37.796875 27.203125 \nL 10.59375 27.203125 \nL 10.59375 35.5 \nL 37.796875 35.5 \nL 37.796875 62.703125 \nz\n\" id=\"DejaVuSans-43\"/>\n     </defs>\n     <g transform=\"translate(92.17875 86.346406)rotate(-90)scale(0.1 -0.1)\">\n      <use xlink:href=\"#DejaVuSans-89\"/>\n      <use x=\"61.083984\" xlink:href=\"#DejaVuSans-32\"/>\n      <use x=\"92.871094\" xlink:href=\"#DejaVuSans-61\"/>\n      <use x=\"176.660156\" xlink:href=\"#DejaVuSans-45\"/>\n      <use x=\"212.666016\" xlink:href=\"#DejaVuSans-88\"/>\n      <use x=\"281.171875\" xlink:href=\"#DejaVuSans-32\"/>\n      <use x=\"312.958984\" xlink:href=\"#DejaVuSans-43\"/>\n      <use x=\"396.748047\" xlink:href=\"#DejaVuSans-32\"/>\n      <use x=\"428.535156\" xlink:href=\"#DejaVuSans-49\"/>\n      <use x=\"492.158203\" xlink:href=\"#DejaVuSans-48\"/>\n     </g>\n    </g>\n   </g>\n   <g id=\"patch_3\">\n    <path d=\"M 117.983437 94.798125 \nL 117.983437 22.318125 \n\" style=\"fill:none;stroke:#000000;stroke-linecap:square;stroke-linejoin:miter;stroke-width:0.8;\"/>\n   </g>\n   <g id=\"patch_4\">\n    <path d=\"M 452.783437 94.798125 \nL 452.783437 22.318125 \n\" style=\"fill:none;stroke:#000000;stroke-linecap:square;stroke-linejoin:miter;stroke-width:0.8;\"/>\n   </g>\n   <g id=\"patch_5\">\n    <path d=\"M 117.983437 94.798125 \nL 452.783438 94.798125 \n\" style=\"fill:none;stroke:#000000;stroke-linecap:square;stroke-linejoin:miter;stroke-width:0.8;\"/>\n   </g>\n   <g id=\"patch_6\">\n    <path d=\"M 117.983437 22.318125 \nL 452.783438 22.318125 \n\" style=\"fill:none;stroke:#000000;stroke-linecap:square;stroke-linejoin:miter;stroke-width:0.8;\"/>\n   </g>\n   <g id=\"text_12\">\n    <!-- Pearson correlation coefficient for variables x and y=(-x + 10) is -1.00. Negative correlation. -->\n    <defs>\n     <path d=\"M 19.671875 64.796875 \nL 19.671875 37.40625 \nL 32.078125 37.40625 \nQ 38.96875 37.40625 42.71875 40.96875 \nQ 46.484375 44.53125 46.484375 51.125 \nQ 46.484375 57.671875 42.71875 61.234375 \nQ 38.96875 64.796875 32.078125 64.796875 \nz\nM 9.8125 72.90625 \nL 32.078125 72.90625 \nQ 44.34375 72.90625 50.609375 67.359375 \nQ 56.890625 61.8125 56.890625 51.125 \nQ 56.890625 40.328125 50.609375 34.8125 \nQ 44.34375 29.296875 32.078125 29.296875 \nL 19.671875 29.296875 \nL 19.671875 0 \nL 9.8125 0 \nz\n\" id=\"DejaVuSans-80\"/>\n     <path d=\"M 56.203125 29.59375 \nL 56.203125 25.203125 \nL 14.890625 25.203125 \nQ 15.484375 15.921875 20.484375 11.0625 \nQ 25.484375 6.203125 34.421875 6.203125 \nQ 39.59375 6.203125 44.453125 7.46875 \nQ 49.3125 8.734375 54.109375 11.28125 \nL 54.109375 2.78125 \nQ 49.265625 0.734375 44.1875 -0.34375 \nQ 39.109375 -1.421875 33.890625 -1.421875 \nQ 20.796875 -1.421875 13.15625 6.1875 \nQ 5.515625 13.8125 5.515625 26.8125 \nQ 5.515625 40.234375 12.765625 48.109375 \nQ 20.015625 56 32.328125 56 \nQ 43.359375 56 49.78125 48.890625 \nQ 56.203125 41.796875 56.203125 29.59375 \nz\nM 47.21875 32.234375 \nQ 47.125 39.59375 43.09375 43.984375 \nQ 39.0625 48.390625 32.421875 48.390625 \nQ 24.90625 48.390625 20.390625 44.140625 \nQ 15.875 39.890625 15.1875 32.171875 \nz\n\" id=\"DejaVuSans-101\"/>\n     <path d=\"M 34.28125 27.484375 \nQ 23.390625 27.484375 19.1875 25 \nQ 14.984375 22.515625 14.984375 16.5 \nQ 14.984375 11.71875 18.140625 8.90625 \nQ 21.296875 6.109375 26.703125 6.109375 \nQ 34.1875 6.109375 38.703125 11.40625 \nQ 43.21875 16.703125 43.21875 25.484375 \nL 43.21875 27.484375 \nz\nM 52.203125 31.203125 \nL 52.203125 0 \nL 43.21875 0 \nL 43.21875 8.296875 \nQ 40.140625 3.328125 35.546875 0.953125 \nQ 30.953125 -1.421875 24.3125 -1.421875 \nQ 15.921875 -1.421875 10.953125 3.296875 \nQ 6 8.015625 6 15.921875 \nQ 6 25.140625 12.171875 29.828125 \nQ 18.359375 34.515625 30.609375 34.515625 \nL 43.21875 34.515625 \nL 43.21875 35.40625 \nQ 43.21875 41.609375 39.140625 45 \nQ 35.0625 48.390625 27.6875 48.390625 \nQ 23 48.390625 18.546875 47.265625 \nQ 14.109375 46.140625 10.015625 43.890625 \nL 10.015625 52.203125 \nQ 14.9375 54.109375 19.578125 55.046875 \nQ 24.21875 56 28.609375 56 \nQ 40.484375 56 46.34375 49.84375 \nQ 52.203125 43.703125 52.203125 31.203125 \nz\n\" id=\"DejaVuSans-97\"/>\n     <path d=\"M 41.109375 46.296875 \nQ 39.59375 47.171875 37.8125 47.578125 \nQ 36.03125 48 33.890625 48 \nQ 26.265625 48 22.1875 43.046875 \nQ 18.109375 38.09375 18.109375 28.8125 \nL 18.109375 0 \nL 9.078125 0 \nL 9.078125 54.6875 \nL 18.109375 54.6875 \nL 18.109375 46.1875 \nQ 20.953125 51.171875 25.484375 53.578125 \nQ 30.03125 56 36.53125 56 \nQ 37.453125 56 38.578125 55.875 \nQ 39.703125 55.765625 41.0625 55.515625 \nz\n\" id=\"DejaVuSans-114\"/>\n     <path d=\"M 44.28125 53.078125 \nL 44.28125 44.578125 \nQ 40.484375 46.53125 36.375 47.5 \nQ 32.28125 48.484375 27.875 48.484375 \nQ 21.1875 48.484375 17.84375 46.4375 \nQ 14.5 44.390625 14.5 40.28125 \nQ 14.5 37.15625 16.890625 35.375 \nQ 19.28125 33.59375 26.515625 31.984375 \nL 29.59375 31.296875 \nQ 39.15625 29.25 43.1875 25.515625 \nQ 47.21875 21.78125 47.21875 15.09375 \nQ 47.21875 7.46875 41.1875 3.015625 \nQ 35.15625 -1.421875 24.609375 -1.421875 \nQ 20.21875 -1.421875 15.453125 -0.5625 \nQ 10.6875 0.296875 5.421875 2 \nL 5.421875 11.28125 \nQ 10.40625 8.6875 15.234375 7.390625 \nQ 20.0625 6.109375 24.8125 6.109375 \nQ 31.15625 6.109375 34.5625 8.28125 \nQ 37.984375 10.453125 37.984375 14.40625 \nQ 37.984375 18.0625 35.515625 20.015625 \nQ 33.0625 21.96875 24.703125 23.78125 \nL 21.578125 24.515625 \nQ 13.234375 26.265625 9.515625 29.90625 \nQ 5.8125 33.546875 5.8125 39.890625 \nQ 5.8125 47.609375 11.28125 51.796875 \nQ 16.75 56 26.8125 56 \nQ 31.78125 56 36.171875 55.265625 \nQ 40.578125 54.546875 44.28125 53.078125 \nz\n\" id=\"DejaVuSans-115\"/>\n     <path d=\"M 30.609375 48.390625 \nQ 23.390625 48.390625 19.1875 42.75 \nQ 14.984375 37.109375 14.984375 27.296875 \nQ 14.984375 17.484375 19.15625 11.84375 \nQ 23.34375 6.203125 30.609375 6.203125 \nQ 37.796875 6.203125 41.984375 11.859375 \nQ 46.1875 17.53125 46.1875 27.296875 \nQ 46.1875 37.015625 41.984375 42.703125 \nQ 37.796875 48.390625 30.609375 48.390625 \nz\nM 30.609375 56 \nQ 42.328125 56 49.015625 48.375 \nQ 55.71875 40.765625 55.71875 27.296875 \nQ 55.71875 13.875 49.015625 6.21875 \nQ 42.328125 -1.421875 30.609375 -1.421875 \nQ 18.84375 -1.421875 12.171875 6.21875 \nQ 5.515625 13.875 5.515625 27.296875 \nQ 5.515625 40.765625 12.171875 48.375 \nQ 18.84375 56 30.609375 56 \nz\n\" id=\"DejaVuSans-111\"/>\n     <path d=\"M 54.890625 33.015625 \nL 54.890625 0 \nL 45.90625 0 \nL 45.90625 32.71875 \nQ 45.90625 40.484375 42.875 44.328125 \nQ 39.84375 48.1875 33.796875 48.1875 \nQ 26.515625 48.1875 22.3125 43.546875 \nQ 18.109375 38.921875 18.109375 30.90625 \nL 18.109375 0 \nL 9.078125 0 \nL 9.078125 54.6875 \nL 18.109375 54.6875 \nL 18.109375 46.1875 \nQ 21.34375 51.125 25.703125 53.5625 \nQ 30.078125 56 35.796875 56 \nQ 45.21875 56 50.046875 50.171875 \nQ 54.890625 44.34375 54.890625 33.015625 \nz\n\" id=\"DejaVuSans-110\"/>\n     <path d=\"M 48.78125 52.59375 \nL 48.78125 44.1875 \nQ 44.96875 46.296875 41.140625 47.34375 \nQ 37.3125 48.390625 33.40625 48.390625 \nQ 24.65625 48.390625 19.8125 42.84375 \nQ 14.984375 37.3125 14.984375 27.296875 \nQ 14.984375 17.28125 19.8125 11.734375 \nQ 24.65625 6.203125 33.40625 6.203125 \nQ 37.3125 6.203125 41.140625 7.25 \nQ 44.96875 8.296875 48.78125 10.40625 \nL 48.78125 2.09375 \nQ 45.015625 0.34375 40.984375 -0.53125 \nQ 36.96875 -1.421875 32.421875 -1.421875 \nQ 20.0625 -1.421875 12.78125 6.34375 \nQ 5.515625 14.109375 5.515625 27.296875 \nQ 5.515625 40.671875 12.859375 48.328125 \nQ 20.21875 56 33.015625 56 \nQ 37.15625 56 41.109375 55.140625 \nQ 45.0625 54.296875 48.78125 52.59375 \nz\n\" id=\"DejaVuSans-99\"/>\n     <path d=\"M 9.421875 75.984375 \nL 18.40625 75.984375 \nL 18.40625 0 \nL 9.421875 0 \nz\n\" id=\"DejaVuSans-108\"/>\n     <path d=\"M 18.3125 70.21875 \nL 18.3125 54.6875 \nL 36.8125 54.6875 \nL 36.8125 47.703125 \nL 18.3125 47.703125 \nL 18.3125 18.015625 \nQ 18.3125 11.328125 20.140625 9.421875 \nQ 21.96875 7.515625 27.59375 7.515625 \nL 36.8125 7.515625 \nL 36.8125 0 \nL 27.59375 0 \nQ 17.1875 0 13.234375 3.875 \nQ 9.28125 7.765625 9.28125 18.015625 \nL 9.28125 47.703125 \nL 2.6875 47.703125 \nL 2.6875 54.6875 \nL 9.28125 54.6875 \nL 9.28125 70.21875 \nz\n\" id=\"DejaVuSans-116\"/>\n     <path d=\"M 9.421875 54.6875 \nL 18.40625 54.6875 \nL 18.40625 0 \nL 9.421875 0 \nz\nM 9.421875 75.984375 \nL 18.40625 75.984375 \nL 18.40625 64.59375 \nL 9.421875 64.59375 \nz\n\" id=\"DejaVuSans-105\"/>\n     <path d=\"M 37.109375 75.984375 \nL 37.109375 68.5 \nL 28.515625 68.5 \nQ 23.6875 68.5 21.796875 66.546875 \nQ 19.921875 64.59375 19.921875 59.515625 \nL 19.921875 54.6875 \nL 34.71875 54.6875 \nL 34.71875 47.703125 \nL 19.921875 47.703125 \nL 19.921875 0 \nL 10.890625 0 \nL 10.890625 47.703125 \nL 2.296875 47.703125 \nL 2.296875 54.6875 \nL 10.890625 54.6875 \nL 10.890625 58.5 \nQ 10.890625 67.625 15.140625 71.796875 \nQ 19.390625 75.984375 28.609375 75.984375 \nz\n\" id=\"DejaVuSans-102\"/>\n     <path d=\"M 2.984375 54.6875 \nL 12.5 54.6875 \nL 29.59375 8.796875 \nL 46.6875 54.6875 \nL 56.203125 54.6875 \nL 35.6875 0 \nL 23.484375 0 \nz\n\" id=\"DejaVuSans-118\"/>\n     <path d=\"M 48.6875 27.296875 \nQ 48.6875 37.203125 44.609375 42.84375 \nQ 40.53125 48.484375 33.40625 48.484375 \nQ 26.265625 48.484375 22.1875 42.84375 \nQ 18.109375 37.203125 18.109375 27.296875 \nQ 18.109375 17.390625 22.1875 11.75 \nQ 26.265625 6.109375 33.40625 6.109375 \nQ 40.53125 6.109375 44.609375 11.75 \nQ 48.6875 17.390625 48.6875 27.296875 \nz\nM 18.109375 46.390625 \nQ 20.953125 51.265625 25.265625 53.625 \nQ 29.59375 56 35.59375 56 \nQ 45.5625 56 51.78125 48.09375 \nQ 58.015625 40.1875 58.015625 27.296875 \nQ 58.015625 14.40625 51.78125 6.484375 \nQ 45.5625 -1.421875 35.59375 -1.421875 \nQ 29.59375 -1.421875 25.265625 0.953125 \nQ 20.953125 3.328125 18.109375 8.203125 \nL 18.109375 0 \nL 9.078125 0 \nL 9.078125 75.984375 \nL 18.109375 75.984375 \nz\n\" id=\"DejaVuSans-98\"/>\n     <path d=\"M 54.890625 54.6875 \nL 35.109375 28.078125 \nL 55.90625 0 \nL 45.3125 0 \nL 29.390625 21.484375 \nL 13.484375 0 \nL 2.875 0 \nL 24.125 28.609375 \nL 4.6875 54.6875 \nL 15.28125 54.6875 \nL 29.78125 35.203125 \nL 44.28125 54.6875 \nz\n\" id=\"DejaVuSans-120\"/>\n     <path d=\"M 45.40625 46.390625 \nL 45.40625 75.984375 \nL 54.390625 75.984375 \nL 54.390625 0 \nL 45.40625 0 \nL 45.40625 8.203125 \nQ 42.578125 3.328125 38.25 0.953125 \nQ 33.9375 -1.421875 27.875 -1.421875 \nQ 17.96875 -1.421875 11.734375 6.484375 \nQ 5.515625 14.40625 5.515625 27.296875 \nQ 5.515625 40.1875 11.734375 48.09375 \nQ 17.96875 56 27.875 56 \nQ 33.9375 56 38.25 53.625 \nQ 42.578125 51.265625 45.40625 46.390625 \nz\nM 14.796875 27.296875 \nQ 14.796875 17.390625 18.875 11.75 \nQ 22.953125 6.109375 30.078125 6.109375 \nQ 37.203125 6.109375 41.296875 11.75 \nQ 45.40625 17.390625 45.40625 27.296875 \nQ 45.40625 37.203125 41.296875 42.84375 \nQ 37.203125 48.484375 30.078125 48.484375 \nQ 22.953125 48.484375 18.875 42.84375 \nQ 14.796875 37.203125 14.796875 27.296875 \nz\n\" id=\"DejaVuSans-100\"/>\n     <path d=\"M 32.171875 -5.078125 \nQ 28.375 -14.84375 24.75 -17.8125 \nQ 21.140625 -20.796875 15.09375 -20.796875 \nL 7.90625 -20.796875 \nL 7.90625 -13.28125 \nL 13.1875 -13.28125 \nQ 16.890625 -13.28125 18.9375 -11.515625 \nQ 21 -9.765625 23.484375 -3.21875 \nL 25.09375 0.875 \nL 2.984375 54.6875 \nL 12.5 54.6875 \nL 29.59375 11.921875 \nL 46.6875 54.6875 \nL 56.203125 54.6875 \nz\n\" id=\"DejaVuSans-121\"/>\n     <path d=\"M 31 75.875 \nQ 24.46875 64.65625 21.28125 53.65625 \nQ 18.109375 42.671875 18.109375 31.390625 \nQ 18.109375 20.125 21.3125 9.0625 \nQ 24.515625 -2 31 -13.1875 \nL 23.1875 -13.1875 \nQ 15.875 -1.703125 12.234375 9.375 \nQ 8.59375 20.453125 8.59375 31.390625 \nQ 8.59375 42.28125 12.203125 53.3125 \nQ 15.828125 64.359375 23.1875 75.875 \nz\n\" id=\"DejaVuSans-40\"/>\n     <path d=\"M 8.015625 75.875 \nL 15.828125 75.875 \nQ 23.140625 64.359375 26.78125 53.3125 \nQ 30.421875 42.28125 30.421875 31.390625 \nQ 30.421875 20.453125 26.78125 9.375 \nQ 23.140625 -1.703125 15.828125 -13.1875 \nL 8.015625 -13.1875 \nQ 14.5 -2 17.703125 9.0625 \nQ 20.90625 20.125 20.90625 31.390625 \nQ 20.90625 42.671875 17.703125 53.65625 \nQ 14.5 64.65625 8.015625 75.875 \nz\n\" id=\"DejaVuSans-41\"/>\n     <path d=\"M 9.8125 72.90625 \nL 23.09375 72.90625 \nL 55.421875 11.921875 \nL 55.421875 72.90625 \nL 64.984375 72.90625 \nL 64.984375 0 \nL 51.703125 0 \nL 19.390625 60.984375 \nL 19.390625 0 \nL 9.8125 0 \nz\n\" id=\"DejaVuSans-78\"/>\n     <path d=\"M 45.40625 27.984375 \nQ 45.40625 37.75 41.375 43.109375 \nQ 37.359375 48.484375 30.078125 48.484375 \nQ 22.859375 48.484375 18.828125 43.109375 \nQ 14.796875 37.75 14.796875 27.984375 \nQ 14.796875 18.265625 18.828125 12.890625 \nQ 22.859375 7.515625 30.078125 7.515625 \nQ 37.359375 7.515625 41.375 12.890625 \nQ 45.40625 18.265625 45.40625 27.984375 \nz\nM 54.390625 6.78125 \nQ 54.390625 -7.171875 48.1875 -13.984375 \nQ 42 -20.796875 29.203125 -20.796875 \nQ 24.46875 -20.796875 20.265625 -20.09375 \nQ 16.0625 -19.390625 12.109375 -17.921875 \nL 12.109375 -9.1875 \nQ 16.0625 -11.328125 19.921875 -12.34375 \nQ 23.78125 -13.375 27.78125 -13.375 \nQ 36.625 -13.375 41.015625 -8.765625 \nQ 45.40625 -4.15625 45.40625 5.171875 \nL 45.40625 9.625 \nQ 42.625 4.78125 38.28125 2.390625 \nQ 33.9375 0 27.875 0 \nQ 17.828125 0 11.671875 7.65625 \nQ 5.515625 15.328125 5.515625 27.984375 \nQ 5.515625 40.671875 11.671875 48.328125 \nQ 17.828125 56 27.875 56 \nQ 33.9375 56 38.28125 53.609375 \nQ 42.625 51.21875 45.40625 46.390625 \nL 45.40625 54.6875 \nL 54.390625 54.6875 \nz\n\" id=\"DejaVuSans-103\"/>\n    </defs>\n    <g transform=\"translate(7.2 16.318125)scale(0.12 -0.12)\">\n     <use xlink:href=\"#DejaVuSans-80\"/>\n     <use x=\"60.255859\" xlink:href=\"#DejaVuSans-101\"/>\n     <use x=\"121.779297\" xlink:href=\"#DejaVuSans-97\"/>\n     <use x=\"183.058594\" xlink:href=\"#DejaVuSans-114\"/>\n     <use x=\"224.171875\" xlink:href=\"#DejaVuSans-115\"/>\n     <use x=\"276.271484\" xlink:href=\"#DejaVuSans-111\"/>\n     <use x=\"337.453125\" xlink:href=\"#DejaVuSans-110\"/>\n     <use x=\"400.832031\" xlink:href=\"#DejaVuSans-32\"/>\n     <use x=\"432.619141\" xlink:href=\"#DejaVuSans-99\"/>\n     <use x=\"487.599609\" xlink:href=\"#DejaVuSans-111\"/>\n     <use x=\"548.78125\" xlink:href=\"#DejaVuSans-114\"/>\n     <use x=\"589.878906\" xlink:href=\"#DejaVuSans-114\"/>\n     <use x=\"630.960938\" xlink:href=\"#DejaVuSans-101\"/>\n     <use x=\"692.484375\" xlink:href=\"#DejaVuSans-108\"/>\n     <use x=\"720.267578\" xlink:href=\"#DejaVuSans-97\"/>\n     <use x=\"781.546875\" xlink:href=\"#DejaVuSans-116\"/>\n     <use x=\"820.755859\" xlink:href=\"#DejaVuSans-105\"/>\n     <use x=\"848.539062\" xlink:href=\"#DejaVuSans-111\"/>\n     <use x=\"909.720703\" xlink:href=\"#DejaVuSans-110\"/>\n     <use x=\"973.099609\" xlink:href=\"#DejaVuSans-32\"/>\n     <use x=\"1004.886719\" xlink:href=\"#DejaVuSans-99\"/>\n     <use x=\"1059.867188\" xlink:href=\"#DejaVuSans-111\"/>\n     <use x=\"1121.048828\" xlink:href=\"#DejaVuSans-101\"/>\n     <use x=\"1182.572266\" xlink:href=\"#DejaVuSans-102\"/>\n     <use x=\"1217.777344\" xlink:href=\"#DejaVuSans-102\"/>\n     <use x=\"1252.982422\" xlink:href=\"#DejaVuSans-105\"/>\n     <use x=\"1280.765625\" xlink:href=\"#DejaVuSans-99\"/>\n     <use x=\"1335.746094\" xlink:href=\"#DejaVuSans-105\"/>\n     <use x=\"1363.529297\" xlink:href=\"#DejaVuSans-101\"/>\n     <use x=\"1425.052734\" xlink:href=\"#DejaVuSans-110\"/>\n     <use x=\"1488.431641\" xlink:href=\"#DejaVuSans-116\"/>\n     <use x=\"1527.640625\" xlink:href=\"#DejaVuSans-32\"/>\n     <use x=\"1559.427734\" xlink:href=\"#DejaVuSans-102\"/>\n     <use x=\"1594.632812\" xlink:href=\"#DejaVuSans-111\"/>\n     <use x=\"1655.814453\" xlink:href=\"#DejaVuSans-114\"/>\n     <use x=\"1696.927734\" xlink:href=\"#DejaVuSans-32\"/>\n     <use x=\"1728.714844\" xlink:href=\"#DejaVuSans-118\"/>\n     <use x=\"1787.894531\" xlink:href=\"#DejaVuSans-97\"/>\n     <use x=\"1849.173828\" xlink:href=\"#DejaVuSans-114\"/>\n     <use x=\"1890.287109\" xlink:href=\"#DejaVuSans-105\"/>\n     <use x=\"1918.070312\" xlink:href=\"#DejaVuSans-97\"/>\n     <use x=\"1979.349609\" xlink:href=\"#DejaVuSans-98\"/>\n     <use x=\"2042.826172\" xlink:href=\"#DejaVuSans-108\"/>\n     <use x=\"2070.609375\" xlink:href=\"#DejaVuSans-101\"/>\n     <use x=\"2132.132812\" xlink:href=\"#DejaVuSans-115\"/>\n     <use x=\"2184.232422\" xlink:href=\"#DejaVuSans-32\"/>\n     <use x=\"2216.019531\" xlink:href=\"#DejaVuSans-120\"/>\n     <use x=\"2275.199219\" xlink:href=\"#DejaVuSans-32\"/>\n     <use x=\"2306.986328\" xlink:href=\"#DejaVuSans-97\"/>\n     <use x=\"2368.265625\" xlink:href=\"#DejaVuSans-110\"/>\n     <use x=\"2431.644531\" xlink:href=\"#DejaVuSans-100\"/>\n     <use x=\"2495.121094\" xlink:href=\"#DejaVuSans-32\"/>\n     <use x=\"2526.908203\" xlink:href=\"#DejaVuSans-121\"/>\n     <use x=\"2586.087891\" xlink:href=\"#DejaVuSans-61\"/>\n     <use x=\"2669.876953\" xlink:href=\"#DejaVuSans-40\"/>\n     <use x=\"2708.890625\" xlink:href=\"#DejaVuSans-45\"/>\n     <use x=\"2744.974609\" xlink:href=\"#DejaVuSans-120\"/>\n     <use x=\"2804.154297\" xlink:href=\"#DejaVuSans-32\"/>\n     <use x=\"2835.941406\" xlink:href=\"#DejaVuSans-43\"/>\n     <use x=\"2919.730469\" xlink:href=\"#DejaVuSans-32\"/>\n     <use x=\"2951.517578\" xlink:href=\"#DejaVuSans-49\"/>\n     <use x=\"3015.140625\" xlink:href=\"#DejaVuSans-48\"/>\n     <use x=\"3078.763672\" xlink:href=\"#DejaVuSans-41\"/>\n     <use x=\"3117.777344\" xlink:href=\"#DejaVuSans-32\"/>\n     <use x=\"3149.564453\" xlink:href=\"#DejaVuSans-105\"/>\n     <use x=\"3177.347656\" xlink:href=\"#DejaVuSans-115\"/>\n     <use x=\"3229.447266\" xlink:href=\"#DejaVuSans-32\"/>\n     <use x=\"3261.234375\" xlink:href=\"#DejaVuSans-45\"/>\n     <use x=\"3297.318359\" xlink:href=\"#DejaVuSans-49\"/>\n     <use x=\"3360.941406\" xlink:href=\"#DejaVuSans-46\"/>\n     <use x=\"3392.728516\" xlink:href=\"#DejaVuSans-48\"/>\n     <use x=\"3456.351562\" xlink:href=\"#DejaVuSans-48\"/>\n     <use x=\"3519.974609\" xlink:href=\"#DejaVuSans-46\"/>\n     <use x=\"3551.761719\" xlink:href=\"#DejaVuSans-32\"/>\n     <use x=\"3583.548828\" xlink:href=\"#DejaVuSans-78\"/>\n     <use x=\"3658.353516\" xlink:href=\"#DejaVuSans-101\"/>\n     <use x=\"3719.876953\" xlink:href=\"#DejaVuSans-103\"/>\n     <use x=\"3783.353516\" xlink:href=\"#DejaVuSans-97\"/>\n     <use x=\"3844.632812\" xlink:href=\"#DejaVuSans-116\"/>\n     <use x=\"3883.841797\" xlink:href=\"#DejaVuSans-105\"/>\n     <use x=\"3911.625\" xlink:href=\"#DejaVuSans-118\"/>\n     <use x=\"3970.804688\" xlink:href=\"#DejaVuSans-101\"/>\n     <use x=\"4032.328125\" xlink:href=\"#DejaVuSans-32\"/>\n     <use x=\"4064.115234\" xlink:href=\"#DejaVuSans-99\"/>\n     <use x=\"4119.095703\" xlink:href=\"#DejaVuSans-111\"/>\n     <use x=\"4180.277344\" xlink:href=\"#DejaVuSans-114\"/>\n     <use x=\"4221.375\" xlink:href=\"#DejaVuSans-114\"/>\n     <use x=\"4262.457031\" xlink:href=\"#DejaVuSans-101\"/>\n     <use x=\"4323.980469\" xlink:href=\"#DejaVuSans-108\"/>\n     <use x=\"4351.763672\" xlink:href=\"#DejaVuSans-97\"/>\n     <use x=\"4413.042969\" xlink:href=\"#DejaVuSans-116\"/>\n     <use x=\"4452.251953\" xlink:href=\"#DejaVuSans-105\"/>\n     <use x=\"4480.035156\" xlink:href=\"#DejaVuSans-111\"/>\n     <use x=\"4541.216797\" xlink:href=\"#DejaVuSans-110\"/>\n     <use x=\"4604.595703\" xlink:href=\"#DejaVuSans-46\"/>\n    </g>\n   </g>\n  </g>\n  <g id=\"axes_2\">\n   <g id=\"patch_7\">\n    <path d=\"M 117.983437 239.758125 \nL 452.783437 239.758125 \nL 452.783437 167.278125 \nL 117.983437 167.278125 \nz\n\" style=\"fill:#ffffff;\"/>\n   </g>\n   <g id=\"PathCollection_2\">\n    <g clip-path=\"url(#p8e435718b9)\">\n     <use style=\"fill:#1f77b4;stroke:#1f77b4;\" x=\"134.076328\" xlink:href=\"#mbcecf2ab7e\" y=\"234.577285\"/>\n     <use style=\"fill:#1f77b4;stroke:#1f77b4;\" x=\"143.838077\" xlink:href=\"#mbcecf2ab7e\" y=\"228.373156\"/>\n     <use style=\"fill:#1f77b4;stroke:#1f77b4;\" x=\"153.599826\" xlink:href=\"#mbcecf2ab7e\" y=\"222.231016\"/>\n     <use style=\"fill:#1f77b4;stroke:#1f77b4;\" x=\"163.361575\" xlink:href=\"#mbcecf2ab7e\" y=\"216.212236\"/>\n     <use style=\"fill:#1f77b4;stroke:#1f77b4;\" x=\"173.123324\" xlink:href=\"#mbcecf2ab7e\" y=\"210.376953\"/>\n     <use style=\"fill:#1f77b4;stroke:#1f77b4;\" x=\"182.885073\" xlink:href=\"#mbcecf2ab7e\" y=\"204.783472\"/>\n     <use style=\"fill:#1f77b4;stroke:#1f77b4;\" x=\"192.646822\" xlink:href=\"#mbcecf2ab7e\" y=\"199.487681\"/>\n     <use style=\"fill:#1f77b4;stroke:#1f77b4;\" x=\"202.408571\" xlink:href=\"#mbcecf2ab7e\" y=\"194.542494\"/>\n     <use style=\"fill:#1f77b4;stroke:#1f77b4;\" x=\"212.17032\" xlink:href=\"#mbcecf2ab7e\" y=\"189.997321\"/>\n     <use style=\"fill:#1f77b4;stroke:#1f77b4;\" x=\"221.932069\" xlink:href=\"#mbcecf2ab7e\" y=\"185.897576\"/>\n     <use style=\"fill:#1f77b4;stroke:#1f77b4;\" x=\"231.693818\" xlink:href=\"#mbcecf2ab7e\" y=\"182.284223\"/>\n     <use style=\"fill:#1f77b4;stroke:#1f77b4;\" x=\"241.455567\" xlink:href=\"#mbcecf2ab7e\" y=\"179.193365\"/>\n     <use style=\"fill:#1f77b4;stroke:#1f77b4;\" x=\"251.217316\" xlink:href=\"#mbcecf2ab7e\" y=\"176.655885\"/>\n     <use style=\"fill:#1f77b4;stroke:#1f77b4;\" x=\"260.979065\" xlink:href=\"#mbcecf2ab7e\" y=\"174.697136\"/>\n     <use style=\"fill:#1f77b4;stroke:#1f77b4;\" x=\"270.740814\" xlink:href=\"#mbcecf2ab7e\" y=\"173.33669\"/>\n     <use style=\"fill:#1f77b4;stroke:#1f77b4;\" x=\"280.502563\" xlink:href=\"#mbcecf2ab7e\" y=\"172.58814\"/>\n     <use style=\"fill:#1f77b4;stroke:#1f77b4;\" x=\"290.264312\" xlink:href=\"#mbcecf2ab7e\" y=\"172.458965\"/>\n     <use style=\"fill:#1f77b4;stroke:#1f77b4;\" x=\"300.026061\" xlink:href=\"#mbcecf2ab7e\" y=\"172.950455\"/>\n     <use style=\"fill:#1f77b4;stroke:#1f77b4;\" x=\"309.78781\" xlink:href=\"#mbcecf2ab7e\" y=\"174.057701\"/>\n     <use style=\"fill:#1f77b4;stroke:#1f77b4;\" x=\"319.549559\" xlink:href=\"#mbcecf2ab7e\" y=\"175.769638\"/>\n     <use style=\"fill:#1f77b4;stroke:#1f77b4;\" x=\"329.311308\" xlink:href=\"#mbcecf2ab7e\" y=\"178.069161\"/>\n     <use style=\"fill:#1f77b4;stroke:#1f77b4;\" x=\"339.073057\" xlink:href=\"#mbcecf2ab7e\" y=\"180.933295\"/>\n     <use style=\"fill:#1f77b4;stroke:#1f77b4;\" x=\"348.834806\" xlink:href=\"#mbcecf2ab7e\" y=\"184.333423\"/>\n     <use style=\"fill:#1f77b4;stroke:#1f77b4;\" x=\"358.596555\" xlink:href=\"#mbcecf2ab7e\" y=\"188.23557\"/>\n     <use style=\"fill:#1f77b4;stroke:#1f77b4;\" x=\"368.358304\" xlink:href=\"#mbcecf2ab7e\" y=\"192.600748\"/>\n     <use style=\"fill:#1f77b4;stroke:#1f77b4;\" x=\"378.120053\" xlink:href=\"#mbcecf2ab7e\" y=\"197.385342\"/>\n     <use style=\"fill:#1f77b4;stroke:#1f77b4;\" x=\"387.881802\" xlink:href=\"#mbcecf2ab7e\" y=\"202.541546\"/>\n     <use style=\"fill:#1f77b4;stroke:#1f77b4;\" x=\"397.643551\" xlink:href=\"#mbcecf2ab7e\" y=\"208.01784\"/>\n     <use style=\"fill:#1f77b4;stroke:#1f77b4;\" x=\"407.4053\" xlink:href=\"#mbcecf2ab7e\" y=\"213.759507\"/>\n     <use style=\"fill:#1f77b4;stroke:#1f77b4;\" x=\"417.167049\" xlink:href=\"#mbcecf2ab7e\" y=\"219.709179\"/>\n     <use style=\"fill:#1f77b4;stroke:#1f77b4;\" x=\"426.928798\" xlink:href=\"#mbcecf2ab7e\" y=\"225.807408\"/>\n     <use style=\"fill:#1f77b4;stroke:#1f77b4;\" x=\"436.690547\" xlink:href=\"#mbcecf2ab7e\" y=\"231.993263\"/>\n    </g>\n   </g>\n   <g id=\"matplotlib.axis_3\">\n    <g id=\"xtick_8\">\n     <g id=\"line2d_10\">\n      <g>\n       <use style=\"stroke:#000000;stroke-width:0.8;\" x=\"134.076328\" xlink:href=\"#m42b78033c8\" y=\"239.758125\"/>\n      </g>\n     </g>\n     <g id=\"text_13\">\n      <!-- 0.0 -->\n      <g transform=\"translate(126.124766 254.356562)scale(0.1 -0.1)\">\n       <use xlink:href=\"#DejaVuSans-48\"/>\n       <use x=\"63.623047\" xlink:href=\"#DejaVuSans-46\"/>\n       <use x=\"95.410156\" xlink:href=\"#DejaVuSans-48\"/>\n      </g>\n     </g>\n    </g>\n    <g id=\"xtick_9\">\n     <g id=\"line2d_11\">\n      <g>\n       <use style=\"stroke:#000000;stroke-width:0.8;\" x=\"182.885073\" xlink:href=\"#m42b78033c8\" y=\"239.758125\"/>\n      </g>\n     </g>\n     <g id=\"text_14\">\n      <!-- 0.5 -->\n      <g transform=\"translate(174.933511 254.356562)scale(0.1 -0.1)\">\n       <use xlink:href=\"#DejaVuSans-48\"/>\n       <use x=\"63.623047\" xlink:href=\"#DejaVuSans-46\"/>\n       <use x=\"95.410156\" xlink:href=\"#DejaVuSans-53\"/>\n      </g>\n     </g>\n    </g>\n    <g id=\"xtick_10\">\n     <g id=\"line2d_12\">\n      <g>\n       <use style=\"stroke:#000000;stroke-width:0.8;\" x=\"231.693818\" xlink:href=\"#m42b78033c8\" y=\"239.758125\"/>\n      </g>\n     </g>\n     <g id=\"text_15\">\n      <!-- 1.0 -->\n      <g transform=\"translate(223.742256 254.356562)scale(0.1 -0.1)\">\n       <use xlink:href=\"#DejaVuSans-49\"/>\n       <use x=\"63.623047\" xlink:href=\"#DejaVuSans-46\"/>\n       <use x=\"95.410156\" xlink:href=\"#DejaVuSans-48\"/>\n      </g>\n     </g>\n    </g>\n    <g id=\"xtick_11\">\n     <g id=\"line2d_13\">\n      <g>\n       <use style=\"stroke:#000000;stroke-width:0.8;\" x=\"280.502563\" xlink:href=\"#m42b78033c8\" y=\"239.758125\"/>\n      </g>\n     </g>\n     <g id=\"text_16\">\n      <!-- 1.5 -->\n      <g transform=\"translate(272.551001 254.356562)scale(0.1 -0.1)\">\n       <use xlink:href=\"#DejaVuSans-49\"/>\n       <use x=\"63.623047\" xlink:href=\"#DejaVuSans-46\"/>\n       <use x=\"95.410156\" xlink:href=\"#DejaVuSans-53\"/>\n      </g>\n     </g>\n    </g>\n    <g id=\"xtick_12\">\n     <g id=\"line2d_14\">\n      <g>\n       <use style=\"stroke:#000000;stroke-width:0.8;\" x=\"329.311308\" xlink:href=\"#m42b78033c8\" y=\"239.758125\"/>\n      </g>\n     </g>\n     <g id=\"text_17\">\n      <!-- 2.0 -->\n      <g transform=\"translate(321.359745 254.356562)scale(0.1 -0.1)\">\n       <use xlink:href=\"#DejaVuSans-50\"/>\n       <use x=\"63.623047\" xlink:href=\"#DejaVuSans-46\"/>\n       <use x=\"95.410156\" xlink:href=\"#DejaVuSans-48\"/>\n      </g>\n     </g>\n    </g>\n    <g id=\"xtick_13\">\n     <g id=\"line2d_15\">\n      <g>\n       <use style=\"stroke:#000000;stroke-width:0.8;\" x=\"378.120053\" xlink:href=\"#m42b78033c8\" y=\"239.758125\"/>\n      </g>\n     </g>\n     <g id=\"text_18\">\n      <!-- 2.5 -->\n      <g transform=\"translate(370.16849 254.356562)scale(0.1 -0.1)\">\n       <use xlink:href=\"#DejaVuSans-50\"/>\n       <use x=\"63.623047\" xlink:href=\"#DejaVuSans-46\"/>\n       <use x=\"95.410156\" xlink:href=\"#DejaVuSans-53\"/>\n      </g>\n     </g>\n    </g>\n    <g id=\"xtick_14\">\n     <g id=\"line2d_16\">\n      <g>\n       <use style=\"stroke:#000000;stroke-width:0.8;\" x=\"426.928798\" xlink:href=\"#m42b78033c8\" y=\"239.758125\"/>\n      </g>\n     </g>\n     <g id=\"text_19\">\n      <!-- 3.0 -->\n      <g transform=\"translate(418.977235 254.356562)scale(0.1 -0.1)\">\n       <use xlink:href=\"#DejaVuSans-51\"/>\n       <use x=\"63.623047\" xlink:href=\"#DejaVuSans-46\"/>\n       <use x=\"95.410156\" xlink:href=\"#DejaVuSans-48\"/>\n      </g>\n     </g>\n    </g>\n    <g id=\"text_20\">\n     <!-- X -->\n     <g transform=\"translate(281.958438 268.034687)scale(0.1 -0.1)\">\n      <use xlink:href=\"#DejaVuSans-88\"/>\n     </g>\n    </g>\n   </g>\n   <g id=\"matplotlib.axis_4\">\n    <g id=\"ytick_3\">\n     <g id=\"line2d_17\">\n      <g>\n       <use style=\"stroke:#000000;stroke-width:0.8;\" x=\"117.983437\" xlink:href=\"#m31cb61d802\" y=\"234.577285\"/>\n      </g>\n     </g>\n     <g id=\"text_21\">\n      <!-- 0.0 -->\n      <g transform=\"translate(95.080312 238.376504)scale(0.1 -0.1)\">\n       <use xlink:href=\"#DejaVuSans-48\"/>\n       <use x=\"63.623047\" xlink:href=\"#DejaVuSans-46\"/>\n       <use x=\"95.410156\" xlink:href=\"#DejaVuSans-48\"/>\n      </g>\n     </g>\n    </g>\n    <g id=\"ytick_4\">\n     <g id=\"line2d_18\">\n      <g>\n       <use style=\"stroke:#000000;stroke-width:0.8;\" x=\"117.983437\" xlink:href=\"#m31cb61d802\" y=\"203.504876\"/>\n      </g>\n     </g>\n     <g id=\"text_22\">\n      <!-- 0.5 -->\n      <g transform=\"translate(95.080312 207.304095)scale(0.1 -0.1)\">\n       <use xlink:href=\"#DejaVuSans-48\"/>\n       <use x=\"63.623047\" xlink:href=\"#DejaVuSans-46\"/>\n       <use x=\"95.410156\" xlink:href=\"#DejaVuSans-53\"/>\n      </g>\n     </g>\n    </g>\n    <g id=\"ytick_5\">\n     <g id=\"line2d_19\">\n      <g>\n       <use style=\"stroke:#000000;stroke-width:0.8;\" x=\"117.983437\" xlink:href=\"#m31cb61d802\" y=\"172.432466\"/>\n      </g>\n     </g>\n     <g id=\"text_23\">\n      <!-- 1.0 -->\n      <g transform=\"translate(95.080312 176.231685)scale(0.1 -0.1)\">\n       <use xlink:href=\"#DejaVuSans-49\"/>\n       <use x=\"63.623047\" xlink:href=\"#DejaVuSans-46\"/>\n       <use x=\"95.410156\" xlink:href=\"#DejaVuSans-48\"/>\n      </g>\n     </g>\n    </g>\n    <g id=\"text_24\">\n     <!-- Y =sin(X) -->\n     <g transform=\"translate(89.000625 226.84)rotate(-90)scale(0.1 -0.1)\">\n      <use xlink:href=\"#DejaVuSans-89\"/>\n      <use x=\"61.083984\" xlink:href=\"#DejaVuSans-32\"/>\n      <use x=\"92.871094\" xlink:href=\"#DejaVuSans-61\"/>\n      <use x=\"176.660156\" xlink:href=\"#DejaVuSans-115\"/>\n      <use x=\"228.759766\" xlink:href=\"#DejaVuSans-105\"/>\n      <use x=\"256.542969\" xlink:href=\"#DejaVuSans-110\"/>\n      <use x=\"319.921875\" xlink:href=\"#DejaVuSans-40\"/>\n      <use x=\"358.935547\" xlink:href=\"#DejaVuSans-88\"/>\n      <use x=\"427.441406\" xlink:href=\"#DejaVuSans-41\"/>\n     </g>\n    </g>\n   </g>\n   <g id=\"patch_8\">\n    <path d=\"M 117.983437 239.758125 \nL 117.983437 167.278125 \n\" style=\"fill:none;stroke:#000000;stroke-linecap:square;stroke-linejoin:miter;stroke-width:0.8;\"/>\n   </g>\n   <g id=\"patch_9\">\n    <path d=\"M 452.783437 239.758125 \nL 452.783437 167.278125 \n\" style=\"fill:none;stroke:#000000;stroke-linecap:square;stroke-linejoin:miter;stroke-width:0.8;\"/>\n   </g>\n   <g id=\"patch_10\">\n    <path d=\"M 117.983437 239.758125 \nL 452.783438 239.758125 \n\" style=\"fill:none;stroke:#000000;stroke-linecap:square;stroke-linejoin:miter;stroke-width:0.8;\"/>\n   </g>\n   <g id=\"patch_11\">\n    <path d=\"M 117.983437 167.278125 \nL 452.783438 167.278125 \n\" style=\"fill:none;stroke:#000000;stroke-linecap:square;stroke-linejoin:miter;stroke-width:0.8;\"/>\n   </g>\n   <g id=\"text_25\">\n    <!-- Pearson correlation coefficient for variables x and y=sin(x) is 0.05. No correlation. -->\n    <g transform=\"translate(38.179688 161.278125)scale(0.12 -0.12)\">\n     <use xlink:href=\"#DejaVuSans-80\"/>\n     <use x=\"60.255859\" xlink:href=\"#DejaVuSans-101\"/>\n     <use x=\"121.779297\" xlink:href=\"#DejaVuSans-97\"/>\n     <use x=\"183.058594\" xlink:href=\"#DejaVuSans-114\"/>\n     <use x=\"224.171875\" xlink:href=\"#DejaVuSans-115\"/>\n     <use x=\"276.271484\" xlink:href=\"#DejaVuSans-111\"/>\n     <use x=\"337.453125\" xlink:href=\"#DejaVuSans-110\"/>\n     <use x=\"400.832031\" xlink:href=\"#DejaVuSans-32\"/>\n     <use x=\"432.619141\" xlink:href=\"#DejaVuSans-99\"/>\n     <use x=\"487.599609\" xlink:href=\"#DejaVuSans-111\"/>\n     <use x=\"548.78125\" xlink:href=\"#DejaVuSans-114\"/>\n     <use x=\"589.878906\" xlink:href=\"#DejaVuSans-114\"/>\n     <use x=\"630.960938\" xlink:href=\"#DejaVuSans-101\"/>\n     <use x=\"692.484375\" xlink:href=\"#DejaVuSans-108\"/>\n     <use x=\"720.267578\" xlink:href=\"#DejaVuSans-97\"/>\n     <use x=\"781.546875\" xlink:href=\"#DejaVuSans-116\"/>\n     <use x=\"820.755859\" xlink:href=\"#DejaVuSans-105\"/>\n     <use x=\"848.539062\" xlink:href=\"#DejaVuSans-111\"/>\n     <use x=\"909.720703\" xlink:href=\"#DejaVuSans-110\"/>\n     <use x=\"973.099609\" xlink:href=\"#DejaVuSans-32\"/>\n     <use x=\"1004.886719\" xlink:href=\"#DejaVuSans-99\"/>\n     <use x=\"1059.867188\" xlink:href=\"#DejaVuSans-111\"/>\n     <use x=\"1121.048828\" xlink:href=\"#DejaVuSans-101\"/>\n     <use x=\"1182.572266\" xlink:href=\"#DejaVuSans-102\"/>\n     <use x=\"1217.777344\" xlink:href=\"#DejaVuSans-102\"/>\n     <use x=\"1252.982422\" xlink:href=\"#DejaVuSans-105\"/>\n     <use x=\"1280.765625\" xlink:href=\"#DejaVuSans-99\"/>\n     <use x=\"1335.746094\" xlink:href=\"#DejaVuSans-105\"/>\n     <use x=\"1363.529297\" xlink:href=\"#DejaVuSans-101\"/>\n     <use x=\"1425.052734\" xlink:href=\"#DejaVuSans-110\"/>\n     <use x=\"1488.431641\" xlink:href=\"#DejaVuSans-116\"/>\n     <use x=\"1527.640625\" xlink:href=\"#DejaVuSans-32\"/>\n     <use x=\"1559.427734\" xlink:href=\"#DejaVuSans-102\"/>\n     <use x=\"1594.632812\" xlink:href=\"#DejaVuSans-111\"/>\n     <use x=\"1655.814453\" xlink:href=\"#DejaVuSans-114\"/>\n     <use x=\"1696.927734\" xlink:href=\"#DejaVuSans-32\"/>\n     <use x=\"1728.714844\" xlink:href=\"#DejaVuSans-118\"/>\n     <use x=\"1787.894531\" xlink:href=\"#DejaVuSans-97\"/>\n     <use x=\"1849.173828\" xlink:href=\"#DejaVuSans-114\"/>\n     <use x=\"1890.287109\" xlink:href=\"#DejaVuSans-105\"/>\n     <use x=\"1918.070312\" xlink:href=\"#DejaVuSans-97\"/>\n     <use x=\"1979.349609\" xlink:href=\"#DejaVuSans-98\"/>\n     <use x=\"2042.826172\" xlink:href=\"#DejaVuSans-108\"/>\n     <use x=\"2070.609375\" xlink:href=\"#DejaVuSans-101\"/>\n     <use x=\"2132.132812\" xlink:href=\"#DejaVuSans-115\"/>\n     <use x=\"2184.232422\" xlink:href=\"#DejaVuSans-32\"/>\n     <use x=\"2216.019531\" xlink:href=\"#DejaVuSans-120\"/>\n     <use x=\"2275.199219\" xlink:href=\"#DejaVuSans-32\"/>\n     <use x=\"2306.986328\" xlink:href=\"#DejaVuSans-97\"/>\n     <use x=\"2368.265625\" xlink:href=\"#DejaVuSans-110\"/>\n     <use x=\"2431.644531\" xlink:href=\"#DejaVuSans-100\"/>\n     <use x=\"2495.121094\" xlink:href=\"#DejaVuSans-32\"/>\n     <use x=\"2526.908203\" xlink:href=\"#DejaVuSans-121\"/>\n     <use x=\"2586.087891\" xlink:href=\"#DejaVuSans-61\"/>\n     <use x=\"2669.876953\" xlink:href=\"#DejaVuSans-115\"/>\n     <use x=\"2721.976562\" xlink:href=\"#DejaVuSans-105\"/>\n     <use x=\"2749.759766\" xlink:href=\"#DejaVuSans-110\"/>\n     <use x=\"2813.138672\" xlink:href=\"#DejaVuSans-40\"/>\n     <use x=\"2852.152344\" xlink:href=\"#DejaVuSans-120\"/>\n     <use x=\"2911.332031\" xlink:href=\"#DejaVuSans-41\"/>\n     <use x=\"2950.345703\" xlink:href=\"#DejaVuSans-32\"/>\n     <use x=\"2982.132812\" xlink:href=\"#DejaVuSans-105\"/>\n     <use x=\"3009.916016\" xlink:href=\"#DejaVuSans-115\"/>\n     <use x=\"3062.015625\" xlink:href=\"#DejaVuSans-32\"/>\n     <use x=\"3093.802734\" xlink:href=\"#DejaVuSans-48\"/>\n     <use x=\"3157.425781\" xlink:href=\"#DejaVuSans-46\"/>\n     <use x=\"3189.212891\" xlink:href=\"#DejaVuSans-48\"/>\n     <use x=\"3252.835938\" xlink:href=\"#DejaVuSans-53\"/>\n     <use x=\"3316.458984\" xlink:href=\"#DejaVuSans-46\"/>\n     <use x=\"3348.246094\" xlink:href=\"#DejaVuSans-32\"/>\n     <use x=\"3380.033203\" xlink:href=\"#DejaVuSans-78\"/>\n     <use x=\"3454.837891\" xlink:href=\"#DejaVuSans-111\"/>\n     <use x=\"3516.019531\" xlink:href=\"#DejaVuSans-32\"/>\n     <use x=\"3547.806641\" xlink:href=\"#DejaVuSans-99\"/>\n     <use x=\"3602.787109\" xlink:href=\"#DejaVuSans-111\"/>\n     <use x=\"3663.96875\" xlink:href=\"#DejaVuSans-114\"/>\n     <use x=\"3705.066406\" xlink:href=\"#DejaVuSans-114\"/>\n     <use x=\"3746.148438\" xlink:href=\"#DejaVuSans-101\"/>\n     <use x=\"3807.671875\" xlink:href=\"#DejaVuSans-108\"/>\n     <use x=\"3835.455078\" xlink:href=\"#DejaVuSans-97\"/>\n     <use x=\"3896.734375\" xlink:href=\"#DejaVuSans-116\"/>\n     <use x=\"3935.943359\" xlink:href=\"#DejaVuSans-105\"/>\n     <use x=\"3963.726562\" xlink:href=\"#DejaVuSans-111\"/>\n     <use x=\"4024.908203\" xlink:href=\"#DejaVuSans-110\"/>\n     <use x=\"4088.287109\" xlink:href=\"#DejaVuSans-46\"/>\n    </g>\n   </g>\n  </g>\n </g>\n <defs>\n  <clipPath id=\"p405ab848ef\">\n   <rect height=\"72.48\" width=\"334.8\" x=\"117.983437\" y=\"22.318125\"/>\n  </clipPath>\n  <clipPath id=\"p8e435718b9\">\n   <rect height=\"72.48\" width=\"334.8\" x=\"117.983437\" y=\"167.278125\"/>\n  </clipPath>\n </defs>\n</svg>\n",
      "image/png": "[encoded data removed]"
     },
     "metadata": {
      "needs_background": "light"
     }
    }
   ],
   "source": [
    "# Just a short example\n",
    "import numpy as np\n",
    "import matplotlib.pyplot as plt\n",
    "%matplotlib inline\n",
    "\n",
    "x = np.array(np.arange(0, 314, 10)) / 100\n",
    "y1 = -x + 10\n",
    "y2 = np.sin(x)\n",
    "\n",
    "fig, (ax1, ax2) = plt.subplots(2, 1)\n",
    "ax1.scatter(x, -x + 10)\n",
    "ax1.set_title(\"Pearson correlation coefficient for variables x and y=(-x + 10) is %.2f. Negative correlation.\"\n",
    "      % np.corrcoef(x, y1)[0][1])\n",
    "ax1.set_xlabel(\"X\")\n",
    "ax1.set_ylabel(\"Y =-X + 10\")\n",
    "ax2.scatter(x, y2)\n",
    "ax2.set_title(\"Pearson correlation coefficient for variables x and y=sin(x) is %.2f. No correlation.\"\n",
    "      % np.corrcoef(x, y2)[0][1])\n",
    "ax2.set_xlabel(\"X\")\n",
    "ax2.set_ylabel(\"Y =sin(X)\")\n",
    "\n",
    "plt.subplots_adjust(hspace=1.0)\n",
    "plt.show()"
   ]
  },
  {
   "cell_type": "markdown",
   "metadata": {},
   "source": [
    "_Note 2_: Use Pandas _.corrcoef_  for calculating Pearson correlation https://pandas.pydata.org/pandas-docs/stable/reference/api/pandas.DataFrame.corr.html. Return list of lists of column name pairs by absolute correlation value in descending order. Each pair of names should follow the alphabet order."
   ]
  },
  {
   "cell_type": "code",
   "execution_count": 120,
   "metadata": {},
   "outputs": [
    {
     "output_type": "stream",
     "name": "stdout",
     "text": [
      "MultiIndex([(  'G3',   'G2'),\n            (  'G1',   'G2'),\n            (  'G1',   'G3'),\n            ('Dalc', 'Walc'),\n            ('Fedu', 'Medu')],\n           )\n"
     ]
    }
   ],
   "source": [
    "top5_correlations = corr[::2][0:5].index\n",
    "print(top5_correlations)\n",
    "# your code here TODO"
   ]
  },
  {
   "cell_type": "markdown",
   "metadata": {},
   "source": [
    "**Task 10 (bonus no grading).** Plot 5 scatterplots showing relationship between most correlated pairs of variables from the previous task."
   ]
  },
  {
   "cell_type": "code",
   "execution_count": null,
   "metadata": {},
   "outputs": [],
   "source": []
  },
  {
   "cell_type": "markdown",
   "metadata": {},
   "source": [
    "### Warning! Do not change anything in this area."
   ]
  },
  {
   "cell_type": "code",
   "execution_count": 121,
   "metadata": {},
   "outputs": [],
   "source": [
    "with open('student_answers.txt', 'w') as file:\n",
    "    file.write(f\"{boys} {girls}\\n\")\n",
    "    file.write(f\"{students_17_year_old}\\n\")\n",
    "    file.write(f\"{boys_from_top_10}\\n\")\n",
    "    file.write(f\"{round(mean, 3)} {round(std, 3)}\\n\")\n",
    "    file.write(f\"{student_counts_for_each_age}\\n\")\n",
    "    file.write(f\"{father} {mother}\\n\")\n",
    "    file.write(f\"{both_present}\\n\")\n",
    "    file.write(f\"{round(GP_diff, 3)} {round(MS_diff, 3)}\\n\")\n",
    "    file.write(f\"{top5_correlations}\")"
   ]
  }
 ],
 "metadata": {
  "kernelspec": {
   "display_name": "Python 3",
   "language": "python",
   "name": "python3"
  },
  "language_info": {
   "codemirror_mode": {
    "name": "ipython",
    "version": 3
   },
   "file_extension": ".py",
   "mimetype": "text/x-python",
   "name": "python",
   "nbconvert_exporter": "python",
   "pygments_lexer": "ipython3",
   "version": "3.6.9-final"
  }
 },
 "nbformat": 4,
 "nbformat_minor": 4
}